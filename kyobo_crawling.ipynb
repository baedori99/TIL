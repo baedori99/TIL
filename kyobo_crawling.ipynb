{
 "cells": [
  {
   "cell_type": "markdown",
   "metadata": {},
   "source": [
    "# 교보문고 키워드 크롤링"
   ]
  },
  {
   "cell_type": "code",
   "execution_count": 38,
   "metadata": {},
   "outputs": [],
   "source": [
    "import requests as req\n",
    "import urllib.parse\n",
    "from bs4 import BeautifulSoup\n",
    "\n",
    "\n",
    "# def kyobo_crawling(keyword):#, page):\n",
    "keyword = \"파이썬\"\n",
    "encrypt_word = urllib.parse.quote(keyword)\n",
    "url = \"https://search.kyobobook.co.kr/search?keyword=\"+ encrypt_word + \"&target=total&gbCode=TOT&page=1\"#{}\".format(page)\n",
    "\n",
    "req_header = {'user_agent':'Mozilla/5.0 (Windows NT 10.0; Win64; x64) AppleWebKit/537.36 (KHTML, like Gecko) Chrome/125.0.0.0 Safari/537.36'}\n",
    "res = req.get(url)\n",
    "    \n",
    "html = res.text\n",
    "soup = BeautifulSoup(html)\n",
    "    \n",
    "# title = soup.find('span', id='cmdtName_S000213500148').text"
   ]
  },
  {
   "cell_type": "code",
   "execution_count": 39,
   "metadata": {},
   "outputs": [],
   "source": [
    "#shopData_list > ul > li:nth-child(2) > div.prod_area.horizontal > div.prod_info_box > div.auto_overflow_wrap.prod_name_group > div.auto_overflow_contents > div > a > span.prod_category"
   ]
  },
  {
   "cell_type": "code",
   "execution_count": 40,
   "metadata": {},
   "outputs": [],
   "source": [
    "# 형식\n",
    "# title = soup.find('li',class_='prod_item').find('a', class_='prod_info').find_all('span')[-1].text\n",
    "# 이제 간결하게 덩어리 리스트를 만들고 for문 돌리면서 title이 나오게 하기\n",
    "\n",
    "# find_all\n",
    "# findAll"
   ]
  },
  {
   "cell_type": "code",
   "execution_count": 41,
   "metadata": {},
   "outputs": [],
   "source": [
    "# rows = soup.find_all('li', class_ = \"prod_item\")\n",
    "\n",
    "# row = rows[0].find('a',class_ = 'prod_info').find_all('span')[-1].text\n",
    "# row"
   ]
  },
  {
   "cell_type": "code",
   "execution_count": 42,
   "metadata": {},
   "outputs": [],
   "source": [
    "# for i in range(len(rows)):\n",
    "#     book_title = rows[i].find('a', class_ = 'prod_info').find_all('span')[-1].text\n",
    "#     print(book_title)"
   ]
  },
  {
   "cell_type": "code",
   "execution_count": 43,
   "metadata": {},
   "outputs": [],
   "source": [
    "# temps = soup.find('ul', class_= 'prod_list').find_all('li', class_ = \"prod_item\")\n",
    "# len(temps)"
   ]
  },
  {
   "cell_type": "code",
   "execution_count": 44,
   "metadata": {},
   "outputs": [],
   "source": [
    "# for i in range(len(temps)):\n",
    "#     temp_title = temps[i].find('a', class_ = 'prod_info').find_all('span')[-1].text\n",
    "#     print(temp_title)"
   ]
  },
  {
   "cell_type": "code",
   "execution_count": 61,
   "metadata": {},
   "outputs": [],
   "source": [
    "rows = soup.find('ul', class_ = 'prod_list').find_all('li', class_= 'prod_item')"
   ]
  },
  {
   "cell_type": "code",
   "execution_count": null,
   "metadata": {},
   "outputs": [],
   "source": [
    "for i in range(len(rows)):\n",
    "    row = rows[i].find('a', class_ = 'prod_info').find_all('span')[-1].text\n",
    "    price = rows[i].find('span', class_ = 'price').find('span', class_ = 'val').text\n",
    "    print(row, price+\"원\")"
   ]
  },
  {
   "cell_type": "code",
   "execution_count": 119,
   "metadata": {},
   "outputs": [
    {
     "name": "stdout",
     "output_type": "stream",
     "text": [
      "\n",
      "\n",
      "[국내도서]\n",
      "예약판매\n",
      "파이썬 한권으로 끝내기: 데이터분석전문가(ADP) + 빅데이터분석기사 실기대비\n",
      "\n",
      "\n"
     ]
    }
   ],
   "source": [
    "# authors = rows[0].find_all('a', class_='author').text\n",
    "\n",
    "# for i in range(rows):\n",
    "type_author = rows[0].find('div',class_='auto_overflow_inner') #.find_all('span', class_='type')\n",
    "\n",
    "# print(len(authors))\n",
    "print(type_author.text)"
   ]
  },
  {
   "cell_type": "code",
   "execution_count": 139,
   "metadata": {},
   "outputs": [
    {
     "name": "stdout",
     "output_type": "stream",
     "text": [
      "\n",
      "\n",
      "[국내도서]\n",
      "예약판매\n",
      "파이썬 한권으로 끝내기: 데이터분석전문가(ADP) + 빅데이터분석기사 실기대비\n",
      "\n",
      " ['\\n\\n\\n데싸라면\\n\\n\\n', '\\n | \\n\\n\\n빨간색 물고기\\n\\n\\n', '\\n | \\n\\n\\n자투리코드\\n\\n\\n', '\\n외\\n']\n",
      "\n",
      "\n",
      "[국내도서]\n",
      "예약판매\n",
      "코스페이시스 with 파이썬\n",
      "\n",
      " ['\\n\\n\\n이재우\\n\\n\\n', '\\n']\n",
      "\n",
      "\n",
      "[eBook]\n",
      "[무료특별판] 미국 주식으로 시작하는 슬기로운 퀀트투자\n",
      "\n",
      " ['\\n\\n\\n김용환\\n\\n\\n', '\\n | \\n\\n\\nYubin Kim\\n\\n\\n', '\\n외\\n']\n",
      "\n",
      "\n",
      "[국내도서]\n",
      "2024 빅데이터분석기사 실기 한권완성: 파이썬(Python)\n",
      "\n",
      " ['\\n\\n\\n최예신\\n\\n\\n', '\\n | \\n\\n\\n박진원\\n\\n\\n', '\\n | \\n\\n\\n이경숙\\n\\n\\n', '\\n | \\n\\n\\n김주현\\n\\n\\n', '\\n외\\n']\n",
      "\n",
      "\n",
      "[국내도서]\n",
      "초보자를 위한 파이썬(Python) 200제\n",
      "\n",
      " ['\\n\\n\\n장삼용\\n\\n\\n', '\\n']\n",
      "\n",
      "\n",
      "[국내도서]\n",
      "파이썬으로 시작하는 데이터 분석\n",
      "\n",
      " ['\\n\\n\\n강지영\\n\\n\\n', '\\n']\n",
      "\n",
      "\n",
      "[국내도서]\n",
      "파이썬 딥러닝 파이토치(Python Deep Learning PyTorch)\n",
      "\n",
      " ['\\n\\n\\n이경택\\n\\n\\n', '\\n | \\n\\n\\n방성수\\n\\n\\n', '\\n | \\n\\n\\n안상준\\n\\n\\n', '\\n외\\n']\n",
      "\n",
      "\n",
      "[국내도서]\n",
      "파이썬으로 배우는 수치 데이터 처리\n",
      "\n",
      " ['\\n\\n\\n김동근\\n\\n\\n', '\\n']\n",
      "\n",
      "\n",
      "[eBook]\n",
      "Python(파이썬)과 Matplotlib, NumPy, Pandas\n",
      "\n",
      " ['\\n\\n\\n양원영\\n\\n\\n', '\\n']\n",
      "\n",
      "\n",
      "[국내도서]\n",
      "파이썬(Python) 3학년 머신러닝의 구조\n",
      "\n",
      " ['\\n\\n\\n모리 요시나오\\n\\n\\n', '\\n | \\n\\n\\n김성훈\\n\\n\\n번역\\n외\\n']\n",
      "\n",
      "\n",
      "[eBook]\n",
      "초보자를 위한 파이썬(Python) 200제\n",
      "\n",
      " ['\\n\\n\\n장삼용\\n\\n\\n', '\\n']\n",
      "\n",
      "\n",
      "[POD]\n",
      "POD\n",
      "마야 파이썬 2024\n",
      "\n",
      " ['\\n\\n\\n신동선, 김경문\\n\\n\\n', '\\n']\n",
      "\n",
      "\n",
      "[국내도서]\n",
      "파이썬 딥러닝 케라스(Python Deep Learning Keras)\n",
      "\n",
      " ['\\n\\n\\n조한성\\n\\n\\n', '\\n']\n",
      "\n",
      "\n",
      "[국내도서]\n",
      "파이썬(Python) 2학년 스크래핑의 구조\n",
      "\n",
      " ['\\n\\n\\n모리 요시나오\\n\\n\\n', '\\n | \\n\\n\\n이영란\\n\\n\\n번역\\n외\\n']\n",
      "\n",
      "\n",
      "[eBook]\n",
      "누구나 할 수 있다 파이썬 Python 기초\n",
      "\n",
      " ['\\n\\n\\n박빈\\n\\n\\n', '\\n']\n",
      "\n",
      "\n",
      "[eBook]\n",
      "파이썬 딥러닝 파이토치(Python Deep Learning PyTorch)\n",
      "\n",
      " ['\\n\\n\\n이경택\\n\\n\\n', '\\n | \\n\\n\\n방성수\\n\\n\\n', '\\n | \\n\\n\\n안상준\\n\\n\\n', '\\n외\\n']\n",
      "\n",
      "\n",
      "[eBook]\n",
      "파이썬(Python) 3학년 머신러닝의 구조\n",
      "\n",
      " ['\\n\\n\\n모리 요시나오\\n\\n\\n', '\\n | \\n\\n\\n김성훈\\n\\n\\n번역\\n외\\n']\n",
      "\n",
      "\n",
      "[eBook]\n",
      "파이썬(Python)\n",
      "\n",
      " ['\\n\\n\\n박병기\\n\\n\\n', '\\n']\n",
      "\n",
      "\n",
      "[eBook]\n",
      "Head First Python\n",
      "\n",
      " ['\\n\\n\\n우정은\\n\\n\\n번역\\n | \\n\\n\\n폴 배리\\n\\n\\n', '\\n외\\n']\n",
      "\n",
      "\n",
      "[eBook]\n",
      "마야 파이썬 2024\n",
      "\n",
      " ['\\n\\n\\n신동선\\n\\n\\n', '\\n | \\n\\n\\n김경문\\n\\n\\n', '\\n외\\n']\n"
     ]
    }
   ],
   "source": [
    "for i in range(len(rows)):\n",
    "    temp_rows = rows[i].find_all('div', class_='auto_overflow_inner')\n",
    "    title = temp_rows[0].text\n",
    "    author = temp_rows[1].text.split('저자(글)')\n",
    "    print(title, author)"
   ]
  }
 ],
 "metadata": {
  "kernelspec": {
   "display_name": "study",
   "language": "python",
   "name": "python3"
  },
  "language_info": {
   "codemirror_mode": {
    "name": "ipython",
    "version": 3
   },
   "file_extension": ".py",
   "mimetype": "text/x-python",
   "name": "python",
   "nbconvert_exporter": "python",
   "pygments_lexer": "ipython3",
   "version": "3.11.9"
  }
 },
 "nbformat": 4,
 "nbformat_minor": 2
}
