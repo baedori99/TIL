{
 "cells": [
  {
   "cell_type": "markdown",
   "metadata": {},
   "source": [
    "# 교보문고 키워드 크롤링"
   ]
  },
  {
   "cell_type": "code",
   "execution_count": 7,
   "metadata": {},
   "outputs": [],
   "source": [
    "import requests as req\n",
    "import urllib.parse\n",
    "from bs4 import BeautifulSoup\n",
    "\n",
    "\n",
    "# def kyobo_crawling(keyword):#, page):\n",
    "keyword = \"파이썬\"\n",
    "encrypt_word = urllib.parse.quote(keyword)\n",
    "url = \"https://search.kyobobook.co.kr/search?keyword=\"+ encrypt_word + \"&target=total&gbCode=TOT&page=1\"#{}\".format(page)\n",
    "\n",
    "req_header = {'user_agent':'Mozilla/5.0 (Windows NT 10.0; Win64; x64) AppleWebKit/537.36 (KHTML, like Gecko) Chrome/125.0.0.0 Safari/537.36'}\n",
    "res = req.get(url)\n",
    "    \n",
    "html = res.text\n",
    "soup = BeautifulSoup(html)\n",
    "    \n",
    "# title = soup.find('span', id='cmdtName_S000213500148').text"
   ]
  },
  {
   "cell_type": "code",
   "execution_count": 9,
   "metadata": {},
   "outputs": [],
   "source": [
    "#shopData_list > ul > li:nth-child(2) > div.prod_area.horizontal > div.prod_info_box > div.auto_overflow_wrap.prod_name_group > div.auto_overflow_contents > div > a > span.prod_category"
   ]
  },
  {
   "cell_type": "code",
   "execution_count": 43,
   "metadata": {},
   "outputs": [
    {
     "data": {
      "text/plain": [
       "'파이썬 한권으로 끝내기: 데이터분석전문가(ADP) + 빅데이터분석기사 실기대비'"
      ]
     },
     "execution_count": 43,
     "metadata": {},
     "output_type": "execute_result"
    }
   ],
   "source": [
    "# 형식\n",
    "# title = soup.find('li',class_='prod_item').find('a', class_='prod_info').find_all('span')[-1].text\n",
    "# 이제 간결하게 덩어리 리스트를 만들고 for문 돌리면서 title이 나오게 하기\n",
    "\n",
    "# find_all\n",
    "# findAll"
   ]
  },
  {
   "cell_type": "code",
   "execution_count": 51,
   "metadata": {},
   "outputs": [
    {
     "data": {
      "text/plain": [
       "'파이썬 한권으로 끝내기: 데이터분석전문가(ADP) + 빅데이터분석기사 실기대비'"
      ]
     },
     "execution_count": 51,
     "metadata": {},
     "output_type": "execute_result"
    }
   ],
   "source": [
    "rows = soup.find_all('li', class_ = \"prod_item\")\n",
    "\n",
    "row = rows[0].find('a',class_ = 'prod_info').find_all('span')[-1].text\n",
    "row"
   ]
  }
 ],
 "metadata": {
  "kernelspec": {
   "display_name": "study",
   "language": "python",
   "name": "python3"
  },
  "language_info": {
   "codemirror_mode": {
    "name": "ipython",
    "version": 3
   },
   "file_extension": ".py",
   "mimetype": "text/x-python",
   "name": "python",
   "nbconvert_exporter": "python",
   "pygments_lexer": "ipython3",
   "version": "3.11.9"
  }
 },
 "nbformat": 4,
 "nbformat_minor": 2
}
