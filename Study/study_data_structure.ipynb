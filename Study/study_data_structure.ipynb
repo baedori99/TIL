{
 "cells": [
  {
   "cell_type": "markdown",
   "metadata": {},
   "source": [
    "# Data Structure"
   ]
  },
  {
   "cell_type": "markdown",
   "metadata": {},
   "source": [
    "## Hash Table"
   ]
  },
  {
   "cell_type": "markdown",
   "metadata": {},
   "source": [
    "### Hash Collision Example"
   ]
  },
  {
   "cell_type": "code",
   "execution_count": 1,
   "metadata": {},
   "outputs": [
    {
     "name": "stdout",
     "output_type": "stream",
     "text": [
      "50.769%\n"
     ]
    }
   ],
   "source": [
    "# 생일 문제(Birthday Problem)\n",
    "import random\n",
    "\n",
    "TRAILS = 100000\n",
    "same_birthdays = 0\n",
    "\n",
    "for _ in range(TRAILS):\n",
    "    birthdays = []\n",
    "    for _ in range(23):\n",
    "        birthday = random.randint(1,365)\n",
    "        if birthday in birthdays:\n",
    "            same_birthdays += 1\n",
    "            break\n",
    "        birthdays.append(birthday)\n",
    "        \n",
    "print(f'{same_birthdays / TRAILS * 100}%')"
   ]
  },
  {
   "cell_type": "code",
   "execution_count": 2,
   "metadata": {},
   "outputs": [
    {
     "name": "stdout",
     "output_type": "stream",
     "text": [
      "0 : 0->3->6->9\n",
      "1 : 1->4->7->10\n",
      "2 : 2->5->8\n"
     ]
    }
   ],
   "source": [
    "# Separate Chaining 구현\n",
    "class Node:\n",
    "    def __init__(self, item: int, link=None):\n",
    "        self.item = item\n",
    "        self.link = link\n",
    "        \n",
    "class HashTable:\n",
    "    def __init__(self):\n",
    "        self.size = 3\n",
    "        self.table = [None] * self.size\n",
    "        \n",
    "    def print_table(self) -> None:\n",
    "        for i, root in enumerate(self.table):\n",
    "            items = []\n",
    "            while root:\n",
    "                items.append(root.item)\n",
    "                root = root.link\n",
    "            print(i, end=' : ')\n",
    "            print('->'.join(map(str, items)))\n",
    "            \n",
    "    def add(self, item: int) -> None:\n",
    "        if self.table[item % self.size] is None:\n",
    "            self.table[item % self.size] = Node(item)\n",
    "            return\n",
    "        prev = self.table[item % self.size]\n",
    "        while prev.link:\n",
    "            prev = prev.link\n",
    "        prev.link = Node(item)\n",
    "        \n",
    "    def remove(self, item: int) -> None:\n",
    "        if self.table[item % self.size] is None:\n",
    "            return\n",
    "        prev = self.table[item % self.size]\n",
    "        while prev.link:\n",
    "            if prev.link.item == item:\n",
    "                prev.link = prev.link.link\n",
    "                break\n",
    "            \n",
    "            \n",
    "ht = HashTable()\n",
    "for i in range(10 + 1):\n",
    "    ht.add(i)\n",
    "ht.print_table()"
   ]
  },
  {
   "cell_type": "code",
   "execution_count": 2,
   "metadata": {},
   "outputs": [
    {
     "name": "stdout",
     "output_type": "stream",
     "text": [
      "0 : 2\n",
      "1 : 1\n",
      "2 : 4\n"
     ]
    }
   ],
   "source": [
    "# Solving Hash Collision using Linear Probing\n",
    "class HashTable:\n",
    "    def __init__(self):\n",
    "        self.size = 3\n",
    "        self.table = [None] * self.size\n",
    "        \n",
    "    def _probe(self, item: int, step: int) -> int:\n",
    "        index = item % self.size\n",
    "        while index < self.size:\n",
    "            if self.table[index] is None:\n",
    "                return index\n",
    "            index += step\n",
    "        return -1\n",
    "    \n",
    "    def print_table(self) -> None:\n",
    "        for i, item in enumerate(self.table):\n",
    "            print(\"{} : {}\".format(i, item))\n",
    "            \n",
    "    def add(self, item: int) -> None:\n",
    "        index = self._probe(item, 1)\n",
    "        if index == -1:\n",
    "            index = self._probe(item, -1)\n",
    "        if index == -1:\n",
    "            return\n",
    "        self.table[index] = item\n",
    "        \n",
    "    def remove(self, item: int) -> None:\n",
    "        start = item % self.size\n",
    "        for i in range(start, self.size):\n",
    "            if self.table[i] == item:\n",
    "                self.table[i] = None\n",
    "        for i in range(0, start):\n",
    "            if self.tanle[i] == item:\n",
    "                self.table[i] = None\n",
    "                \n",
    "ht = HashTable()\n",
    "ht.add(1)\n",
    "ht.add(4)\n",
    "ht.add(2)\n",
    "ht.print_table()"
   ]
  },
  {
   "cell_type": "code",
   "execution_count": null,
   "metadata": {},
   "outputs": [],
   "source": [
    "# Stack 구현 코드 (Python)\n",
    "\n",
    "class Stack:\n",
    "    # 리스트를 이용한 스택 구현\n",
    "    def __init__(self):\n",
    "        self.top = []\n",
    "        self.limit = limit\n",
    "        \n",
    "    # 스택 크기 반환\n",
    "    def __len__(self) -> bool:\n",
    "        return len(self.top)\n",
    "    \n",
    "    # 구현 함수\n",
    "    # 스택에 원소 삽입\n",
    "    def push(self, item):\n",
    "        if (len(self.pop)>= self.limit):\n",
    "            self.top.append(item)\n",
    "        \n",
    "    # 스택 가장 위에 있는 원소를 삭제하고 반환\n",
    "    def pop(self):\n",
    "        if not self.isEmpty():\n",
    "            return self.top.pop(-1)\n",
    "        else:\n",
    "            print(\"Stack underflow\")\n",
    "            exit()\n",
    "    \n",
    "    # 스택 가장 위에 있는 원소를 반환\n",
    "    def peek(self):\n",
    "        if not self.isEmpty():\n",
    "            return self.top[-1]\n",
    "        else:\n",
    "            print(\"underflow\")\n",
    "            exit()\n",
    "            \n",
    "    # 스택이 비어 있는지를 bool값으로 반환\n",
    "    def isEmpty(self) -> bool:\n",
    "        return len(self.top)==0\n",
    "    \n",
    "    # 스택을 비움\n",
    "    def clear(self):\n",
    "        self.top = []\n",
    "        \n",
    "    # 스택 안에 특정 item이 포함되어 있는지를 bool값으로 반환\n",
    "    def isContain(self, item)-> bool:\n",
    "        return item in self.top\n",
    "    \n",
    "    # 스택이 가득 차 있는 지를 bool값으로 반환\n",
    "    def isFull(self) -> bool:\n",
    "        return self.size() == self.limit\n",
    "    \n",
    "    # 스택의 크기를 int값으로 반환\n",
    "    def size(self) -> int:\n",
    "        return len(self.top)"
   ]
  },
  {
   "cell_type": "code",
   "execution_count": null,
   "metadata": {},
   "outputs": [],
   "source": [
    "test"
   ]
  }
 ],
 "metadata": {
  "kernelspec": {
   "display_name": "study",
   "language": "python",
   "name": "python3"
  },
  "language_info": {
   "codemirror_mode": {
    "name": "ipython",
    "version": 3
   },
   "file_extension": ".py",
   "mimetype": "text/x-python",
   "name": "python",
   "nbconvert_exporter": "python",
   "pygments_lexer": "ipython3",
   "version": "3.11.9"
  }
 },
 "nbformat": 4,
 "nbformat_minor": 2
}
