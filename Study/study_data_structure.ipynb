{
 "cells": [
  {
   "cell_type": "markdown",
   "metadata": {},
   "source": [
    "# Data Structure"
   ]
  },
  {
   "cell_type": "markdown",
   "metadata": {},
   "source": [
    "## Hash Table"
   ]
  },
  {
   "cell_type": "markdown",
   "metadata": {},
   "source": [
    "### Hash Collision Example"
   ]
  },
  {
   "cell_type": "code",
   "execution_count": 1,
   "metadata": {},
   "outputs": [
    {
     "name": "stdout",
     "output_type": "stream",
     "text": [
      "50.769%\n"
     ]
    }
   ],
   "source": [
    "# 생일 문제(Birthday Problem)\n",
    "import random\n",
    "\n",
    "TRAILS = 100000\n",
    "same_birthdays = 0\n",
    "\n",
    "for _ in range(TRAILS):\n",
    "    birthdays = []\n",
    "    for _ in range(23):\n",
    "        birthday = random.randint(1,365)\n",
    "        if birthday in birthdays:\n",
    "            same_birthdays += 1\n",
    "            break\n",
    "        birthdays.append(birthday)\n",
    "        \n",
    "print(f'{same_birthdays / TRAILS * 100}%')"
   ]
  },
  {
   "cell_type": "code",
   "execution_count": 2,
   "metadata": {},
   "outputs": [
    {
     "name": "stdout",
     "output_type": "stream",
     "text": [
      "0 : 0->3->6->9\n",
      "1 : 1->4->7->10\n",
      "2 : 2->5->8\n"
     ]
    }
   ],
   "source": [
    "# Separate Chaining 구현\n",
    "class Node:\n",
    "    def __init__(self, item: int, link=None):\n",
    "        self.item = item\n",
    "        self.link = link\n",
    "        \n",
    "class HashTable:\n",
    "    def __init__(self):\n",
    "        self.size = 3\n",
    "        self.table = [None] * self.size\n",
    "        \n",
    "    def print_table(self) -> None:\n",
    "        for i, root in enumerate(self.table):\n",
    "            items = []\n",
    "            while root:\n",
    "                items.append(root.item)\n",
    "                root = root.link\n",
    "            print(i, end=' : ')\n",
    "            print('->'.join(map(str, items)))\n",
    "            \n",
    "    def add(self, item: int) -> None:\n",
    "        if self.table[item % self.size] is None:\n",
    "            self.table[item % self.size] = Node(item)\n",
    "            return\n",
    "        prev = self.table[item % self.size]\n",
    "        while prev.link:\n",
    "            prev = prev.link\n",
    "        prev.link = Node(item)\n",
    "        \n",
    "    def remove(self, item: int) -> None:\n",
    "        if self.table[item % self.size] is None:\n",
    "            return\n",
    "        prev = self.table[item % self.size]\n",
    "        while prev.link:\n",
    "            if prev.link.item == item:\n",
    "                prev.link = prev.link.link\n",
    "                break\n",
    "            \n",
    "            \n",
    "ht = HashTable()\n",
    "for i in range(10 + 1):\n",
    "    ht.add(i)\n",
    "ht.print_table()"
   ]
  }
 ],
 "metadata": {
  "kernelspec": {
   "display_name": "study",
   "language": "python",
   "name": "python3"
  },
  "language_info": {
   "codemirror_mode": {
    "name": "ipython",
    "version": 3
   },
   "file_extension": ".py",
   "mimetype": "text/x-python",
   "name": "python",
   "nbconvert_exporter": "python",
   "pygments_lexer": "ipython3",
   "version": "3.11.9"
  }
 },
 "nbformat": 4,
 "nbformat_minor": 2
}
