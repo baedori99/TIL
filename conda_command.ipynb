{
 "cells": [
  {
   "cell_type": "markdown",
   "metadata": {},
   "source": [
    "## Conda Command"
   ]
  },
  {
   "cell_type": "markdown",
   "metadata": {},
   "source": [
    "### 1. Virtual Environment Checking List\n",
    "- command: $ conda env list"
   ]
  },
  {
   "cell_type": "markdown",
   "metadata": {},
   "source": [
    "### 2. Create Virtual Environment\n",
    "- command: $ conda create -n env_name(Virtual Environment name) python==version_number"
   ]
  },
  {
   "cell_type": "markdown",
   "metadata": {},
   "source": [
    "### 3. Connecting to Virtual Environment\n",
    "- command: $ conda activate env_name"
   ]
  },
  {
   "cell_type": "code",
   "execution_count": null,
   "metadata": {},
   "outputs": [],
   "source": [
    "str1 = list(input())\n",
    "num = int(input())\n",
    "\n",
    "print(str1[num])"
   ]
  },
  {
   "cell_type": "markdown",
   "metadata": {},
   "source": [
    "#### *If ipykernel package is not working.\n",
    "\n",
    "- Try uninstalling and reinstalling pyzmq with pip\n",
    "\n",
    "- For reference, I got this error when trying to run the \"jupyter notebook\" command, but it started after I interrupted the kernel with cntl+c. Reinstalling pyzmq fixed it for me"
   ]
  }
 ],
 "metadata": {
  "kernelspec": {
   "display_name": "study",
   "language": "python",
   "name": "python3"
  },
  "language_info": {
   "name": "python",
   "version": "3.11.0"
  }
 },
 "nbformat": 4,
 "nbformat_minor": 2
}
