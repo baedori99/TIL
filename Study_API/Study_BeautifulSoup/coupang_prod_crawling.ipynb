{
 "cells": [
  {
   "cell_type": "markdown",
   "metadata": {},
   "source": [
    "# 쿠팡 상품 크롤링"
   ]
  },
  {
   "cell_type": "code",
   "execution_count": 74,
   "metadata": {},
   "outputs": [],
   "source": [
    "import requests as req\n",
    "import urllib.parse\n",
    "from bs4 import BeautifulSoup\n",
    "\n",
    "keyword = \"스트랩\"\n",
    "encrypt_word = urllib.parse.quote(keyword)\n",
    "url = \"https://www.coupang.com/np/search?component=&q=\" + encrypt_word + \"&channel=user&page=1\"\n",
    "User_agent = {'User-Agent':\"Mozilla/5.0 (Windows NT 10.0; Win64; x64) AppleWebKit/537.36 (KHTML, like Gecko) Chrome/125.0.0.0 Safari/537.36\",\"Accept-Language\": \"ko-KR,ko;q=0.8,en-US;q=0.5,en;q=0.3\"}\n",
    "\n",
    "result = req.get(url, headers=User_agent)\n",
    "\n",
    "html = result.text\n",
    "soup = BeautifulSoup(html)"
   ]
  },
  {
   "cell_type": "code",
   "execution_count": 75,
   "metadata": {},
   "outputs": [],
   "source": [
    "#\\32 270488247 > a > dl > dd > div > div.name 1\n",
    "#\\32 270488247 > a > dl > dd > div > div.name 2\n",
    "#\\32 270488247 > a > dl > dd > div > div.name 3\n",
    "#\\36 731316586 > a > dl > dd > div > div.name 4\n",
    "#\\36 731316415 > a > dl > dd > div > div.name 5 #\\36 731316415 > a > dl > dd > div > div.name\n",
    "#\\36 731316415 > a > dl > dd > div > div.name 6\n",
    "#\\37 854328743 > a > dl > dd > div > div.name 7\n",
    "#\\37 935130467 > a > dl > dd > div > div.name 8\n",
    "#\\37 571474778 > a > dl > dd > div > div.name 9\n",
    "#\\36 731316586 > a > dl > dd > div > div.name 10\n",
    "# //*[@id=\"searchBestSellerCarouselWidget\"]/li/div/div/div[2]/div/div/ul/li[1]/a/dl/dd/div/div[2]/text()\n",
    "rows = soup.find('ul', id='productList').find_all('a', class_='search-product-link')"
   ]
  },
  {
   "cell_type": "code",
   "execution_count": 99,
   "metadata": {},
   "outputs": [],
   "source": [
    "rows = soup.find('ul', id='productList').find_all('li')"
   ]
  },
  {
   "cell_type": "code",
   "execution_count": 102,
   "metadata": {},
   "outputs": [
    {
     "name": "stdout",
     "output_type": "stream",
     "text": [
      "제로투히어로 프로 그립 헬스 리프팅 스트랩 손목보호대, 1세트, BLACK\n",
      "제로투히어로 프로 그립 헬스 리프팅 스트랩 손목보호대, 1세트, BLACK CAMO\n",
      "제로투히어로 프로 그립 헬스 리프팅 스트랩 손목보호대, 1세트, BLACK\n",
      "제로투히어로 논슬립 헬스 스트랩 리프팅 손목보호대 양쪽 세트, 블랙\n",
      "지피스포츠 헬스 스트랩 남성 손목보호대 턱걸이 장갑 헬스용품 스트렙 물, 1개\n",
      "제로투히어로 프로 그립 헬스 리프팅 스트랩 EXTREME 좌우세트, 블랙카모\n"
     ]
    }
   ],
   "source": [
    "i = 0\n",
    "for row in rows:\n",
    "    name = row.find('div',class_='name').text\n",
    "    print(name)\n",
    "    i += 1\n",
    "    if i > 5:\n",
    "        break"
   ]
  },
  {
   "cell_type": "code",
   "execution_count": 98,
   "metadata": {},
   "outputs": [
    {
     "name": "stdout",
     "output_type": "stream",
     "text": [
      "<div class=\"name\">제로투히어로 논슬립 헬스 스트랩 리프팅 손목보호대 양쪽 세트, 블랙</div>\n"
     ]
    }
   ],
   "source": [
    "name = rows[3].find('dd',class_='descriptions').find('div', class_='name')\n",
    "print(name)"
   ]
  },
  {
   "cell_type": "code",
   "execution_count": 78,
   "metadata": {},
   "outputs": [
    {
     "name": "stdout",
     "output_type": "stream",
     "text": [
      "5.0\n"
     ]
    }
   ],
   "source": [
    "rating = rows[3].find('div', class_='other-info').find('em', class_='rating')\n",
    "print(rating.text)"
   ]
  },
  {
   "cell_type": "code",
   "execution_count": 83,
   "metadata": {},
   "outputs": [
    {
     "name": "stdout",
     "output_type": "stream",
     "text": [
      "(2504)\n"
     ]
    }
   ],
   "source": [
    "rating_count = rows[5].find('div', class_='other-info').find('span', class_='rating-total-count')\n",
    "print(rating_count.text)"
   ]
  },
  {
   "cell_type": "code",
   "execution_count": 89,
   "metadata": {},
   "outputs": [
    {
     "name": "stdout",
     "output_type": "stream",
     "text": [
      "20,900\n"
     ]
    }
   ],
   "source": [
    "sale_price = rows[4].find('div', class_='price').find('strong', class_= 'price-value')\n",
    "print(sale_price.text)"
   ]
  },
  {
   "cell_type": "code",
   "execution_count": 97,
   "metadata": {},
   "outputs": [
    {
     "name": "stdout",
     "output_type": "stream",
     "text": [
      "58\n"
     ]
    }
   ],
   "source": [
    "print(len(rows))"
   ]
  },
  {
   "cell_type": "markdown",
   "metadata": {},
   "source": [
    "- 쿠팡 상품 순서가 달라서 크롤링 하기 번거롭다.\n",
    "- 상품 한개의 상품명, 별점, 리뷰, 할인된 가격을 불러온 것으로 마무리한다."
   ]
  }
 ],
 "metadata": {
  "kernelspec": {
   "display_name": "study",
   "language": "python",
   "name": "python3"
  },
  "language_info": {
   "codemirror_mode": {
    "name": "ipython",
    "version": 3
   },
   "file_extension": ".py",
   "mimetype": "text/x-python",
   "name": "python",
   "nbconvert_exporter": "python",
   "pygments_lexer": "ipython3",
   "version": "3.11.9"
  }
 },
 "nbformat": 4,
 "nbformat_minor": 2
}
