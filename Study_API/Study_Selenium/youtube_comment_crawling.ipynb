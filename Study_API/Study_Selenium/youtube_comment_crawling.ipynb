{
 "cells": [
  {
   "cell_type": "markdown",
   "metadata": {},
   "source": [
    "# Youtube Comment Crawling"
   ]
  },
  {
   "cell_type": "markdown",
   "metadata": {},
   "source": [
    "### Youtube 댓글을 크롤링하는 목적\n",
    "- 예시\n",
    "    - 브이로그의 댓글이 악플이 달렸는지 선플이 달렸는지 확인을 하고 싶다. -> 브이로그의 주소를 받아서 쓰면 된다\n",
    "    - 축구경기를 할 때 사람들의 반을을 보고 싶다. -> 유튜브 검색창에 축구를 치고 영상에 들어가서 댓글을 크롤링하면 된다."
   ]
  },
  {
   "cell_type": "markdown",
   "metadata": {},
   "source": [
    "- 목적\n",
    "    - 상황: 대형 유튜버인 내가 내 유튜브 영상에 있는 댓글들에서 악플을 찾고 싶다"
   ]
  },
  {
   "cell_type": "markdown",
   "metadata": {},
   "source": [
    "- 과제 목록\n",
    "    1. scroll 횟수 = 5번\n",
    "    2. 댓글 수집 시작\n",
    "        1. 대댓글 ❌\n",
    "        2. ID / 댓글 / 좋아요 Data 크롤링\n",
    "        3. Data에 video_id열 추가 (`v=video_id`)"
   ]
  },
  {
   "cell_type": "markdown",
   "metadata": {},
   "source": [
    "### Youtube 크롤링을 하기 전 결정해야 할 일\n",
    "\n",
    "- Selenium으로 만들기"
   ]
  },
  {
   "cell_type": "markdown",
   "metadata": {},
   "source": [
    "### URL 파악하기\n",
    "- Youtube의 도메인은 \"https://www.youtube.com/\"\n",
    "- 내가 크롤링하고자 하는 영상의 주소는 \"https://www.youtube.com/watch?v=SsJg6x-inFw\"\n",
    "- 키\n",
    "    - `watch?v=`\n",
    "        - 뒤에 영상의 고유주소"
   ]
  },
  {
   "cell_type": "code",
   "execution_count": 265,
   "metadata": {},
   "outputs": [],
   "source": [
    "from selenium import webdriver\n",
    "from selenium.webdriver.chrome.options import Options \n",
    "from selenium.webdriver.common.keys import Keys\n",
    "from selenium.webdriver.common.by import By\n",
    "from selenium.webdriver import ActionChains\n",
    "from selenium.webdriver.support.ui import WebDriverWait\n",
    "from selenium.webdriver.support import expected_conditions as EC\n",
    "import time\n",
    "import pandas as pd"
   ]
  },
  {
   "cell_type": "code",
   "execution_count": 284,
   "metadata": {},
   "outputs": [],
   "source": [
    "# 크롬창 열기\n",
    "options = Options()\n",
    "driver = webdriver.Chrome(options=options)\n",
    "driver.maximize_window()\n",
    "wait = WebDriverWait(driver, 10)\n",
    "wait.until(EC.presence_of_element_located((By.TAG_NAME, \"body\")))\n",
    "video_id = \"SsJg6x-inFw\"\n",
    "# 유튜브 주소 들어가기\n",
    "driver.get(\"https://www.youtube.com/watch?v=\" + video_id)\n",
    "\n"
   ]
  },
  {
   "cell_type": "code",
   "execution_count": 288,
   "metadata": {},
   "outputs": [],
   "source": [
    "# 스크롤 5번하기\n",
    "n_scroll = 5\n",
    "ActionChains(driver).send_keys(\"k\").perform()\n",
    "last_height = driver.execute_script(\"return document.documentElement.scrollHeight\")\n",
    "\n",
    "# for i in range(5):\n",
    "    \n",
    "#     driver.execute_script(\"window.scrollTo(0, document.documentElement.scrollHeight);\")\n",
    "    \n",
    "    \n",
    "#     new_height = driver.execute_script(\"return document.documentElement.scrollHeight\")\n",
    "#     if new_height == last_height:\n",
    "#         break\n",
    "#     last_height = new_height\n",
    "    \n",
    "\n",
    "# time.sleep(2)\n",
    "\n",
    "# 페이지를 5번 스크롤\n",
    "# for _ in range(n_scroll):\n",
    "#     # JavaScript를 사용하여 페이지 스크롤\n",
    "#     driver.execute_script(\"window.scrollBy(0, window.innerHeight);\")\n",
    "#     # 각 스크롤 후 약간의 지연을 추가하여 페이지가 로드될 시간을 줍니다.\n",
    "#     time.sleep(1)\n",
    "#     wait = WebDriverWait(driver, 10)\n",
    "#     wait.until(EC.presence_of_element_located((By.TAG_NAME, \"body\")))\n",
    "\n",
    "container=driver.find_element(By.TAG_NAME, \"html\")\n",
    "before_top = driver.execute_script(\"return arguments[0].scrollTop\", container)\n",
    "\n",
    "for i in range(5):\n",
    "    driver.execute_script(\"arguments[0].scrollTop = arguments[0].scrollHeight\", container)\n",
    "    after_top = driver.execute_script(\"return arguments[0].scrollTop\", container)\n",
    "\n",
    "    # if int(before_top) == int(after_top):\n",
    "    #     break\n",
    "        \n",
    "    before_top = after_top "
   ]
  },
  {
   "cell_type": "code",
   "execution_count": 167,
   "metadata": {},
   "outputs": [],
   "source": [
    "# 유튜브 프리미엄 창 없애기\n",
    "try:\n",
    "    driver.find_element(By.CSS_SELECTOR, \"#dismiss-button > a\").click()\n",
    "except:\n",
    "    pass"
   ]
  },
  {
   "cell_type": "code",
   "execution_count": 291,
   "metadata": {},
   "outputs": [
    {
     "name": "stdout",
     "output_type": "stream",
     "text": [
      "[]\n"
     ]
    }
   ],
   "source": [
    "# temp = driver.find_element(By.ID, \"comments\").find_element(By.ID, \"contents\").find_elements(By.CLASS_NAME, \"style-scope.ytd-item-section-renderer\")\n",
    "temp = driver.find_elements(By.ID, \"context-text\")\n",
    "print(temp)\n",
    "\n",
    "# 아이디 받아오기\n",
    "# y_id = temp[1].find_element(By.ID,  'author-text').text\n",
    "# print(y_id)"
   ]
  },
  {
   "cell_type": "code",
   "execution_count": 295,
   "metadata": {},
   "outputs": [
    {
     "name": "stdout",
     "output_type": "stream",
     "text": [
      "한화의 김경문, 롯데의 김태형.... 오랫동안 꼴찌 였던 팀들이 서서히 자리가 잡혀가고 있음. 이래서 감독이 중요한 거구나...\n",
      "또또또 설레발친다. 지나가던 한화팬입니다.\n",
      "이거 한화 계속 본 사람들은 공감할거임.\n",
      "문현빈이 롯데전 이후로 병살타로 맛이 가있었고, 하필 1루에 주자 있는데 대타 문현빈 보고 이게 뭔가 했음. 그런데 이걸 스퀴즈 번트로 역전도 해, 클러치상황만 오면 병살타를 치던 문현빈이 짜릿하게 웃고있어. 그저 대 경 문.\n",
      "코칭스텝 , 구단관계자 , 선수여러분 양심이 있다면 25년을 기다리고 있는 김승연 회장님과 한화팬들을 위해 1999년을 재현 합시다.\n",
      "아니...한화가 작전야구를!?!\n"
     ]
    }
   ],
   "source": [
    "temps = driver.find_elements(By.CSS_SELECTOR, '#content-text')\n",
    "for i in range(5):\n",
    "    print(temps[i].text)\n"
   ]
  },
  {
   "cell_type": "code",
   "execution_count": 195,
   "metadata": {},
   "outputs": [
    {
     "name": "stdout",
     "output_type": "stream",
     "text": [
      "한화의 김경문, 롯데의 김태형.... 오랫동안 꼴찌 였던 팀들이 서서히 자리가 잡혀가고 있음. 이래서 감독이 중요한 거구나...\n"
     ]
    }
   ],
   "source": [
    "# 댓글 받아오기\n",
    "y_comment = temp[0].find_element(By.ID, 'content-text').text\n",
    "print(y_comment)"
   ]
  },
  {
   "cell_type": "code",
   "execution_count": 196,
   "metadata": {},
   "outputs": [
    {
     "name": "stdout",
     "output_type": "stream",
     "text": [
      "456\n"
     ]
    }
   ],
   "source": [
    "# 좋아요 받아오기\n",
    "y_like = temp[0].find_element(By.ID, 'vote-count-middle').text\n",
    "print(y_like)"
   ]
  },
  {
   "cell_type": "code",
   "execution_count": 222,
   "metadata": {},
   "outputs": [
    {
     "name": "stdout",
     "output_type": "stream",
     "text": [
      "16\n"
     ]
    }
   ],
   "source": [
    "print(len(y_id))"
   ]
  },
  {
   "cell_type": "code",
   "execution_count": 275,
   "metadata": {},
   "outputs": [
    {
     "ename": "StaleElementReferenceException",
     "evalue": "Message: stale element reference: stale element not found in the current frame\n  (Session info: chrome=125.0.6422.142); For documentation on this error, please visit: https://www.selenium.dev/documentation/webdriver/troubleshooting/errors#stale-element-reference-exception\nStacktrace:\n\tGetHandleVerifier [0x00007FF65C3B1F52+60322]\n\t(No symbol) [0x00007FF65C32CEC9]\n\t(No symbol) [0x00007FF65C1E7EBA]\n\t(No symbol) [0x00007FF65C1EDCEE]\n\t(No symbol) [0x00007FF65C1F0641]\n\t(No symbol) [0x00007FF65C1F06E0]\n\t(No symbol) [0x00007FF65C23733B]\n\t(No symbol) [0x00007FF65C23773C]\n\t(No symbol) [0x00007FF65C22AEEC]\n\t(No symbol) [0x00007FF65C25C25F]\n\t(No symbol) [0x00007FF65C22ADB6]\n\t(No symbol) [0x00007FF65C25C430]\n\t(No symbol) [0x00007FF65C27BC80]\n\t(No symbol) [0x00007FF65C25BFC3]\n\t(No symbol) [0x00007FF65C229617]\n\t(No symbol) [0x00007FF65C22A211]\n\tGetHandleVerifier [0x00007FF65C6C94AD+3301629]\n\tGetHandleVerifier [0x00007FF65C7136D3+3605283]\n\tGetHandleVerifier [0x00007FF65C709450+3563680]\n\tGetHandleVerifier [0x00007FF65C464326+790390]\n\t(No symbol) [0x00007FF65C33750F]\n\t(No symbol) [0x00007FF65C333404]\n\t(No symbol) [0x00007FF65C333592]\n\t(No symbol) [0x00007FF65C322F9F]\n\tBaseThreadInitThunk [0x00007FFEBB407344+20]\n\tRtlUserThreadStart [0x00007FFEBCA7CC91+33]\n",
     "output_type": "error",
     "traceback": [
      "\u001b[1;31m---------------------------------------------------------------------------\u001b[0m",
      "\u001b[1;31mStaleElementReferenceException\u001b[0m            Traceback (most recent call last)",
      "Cell \u001b[1;32mIn[275], line 5\u001b[0m\n\u001b[0;32m      1\u001b[0m data_dict \u001b[38;5;241m=\u001b[39m {\u001b[38;5;124m'\u001b[39m\u001b[38;5;124mID\u001b[39m\u001b[38;5;124m'\u001b[39m:[],\u001b[38;5;124m'\u001b[39m\u001b[38;5;124mComments\u001b[39m\u001b[38;5;124m'\u001b[39m:[],\u001b[38;5;124m'\u001b[39m\u001b[38;5;124mLikes\u001b[39m\u001b[38;5;124m'\u001b[39m:[]}\n\u001b[0;32m      4\u001b[0m \u001b[38;5;28;01mfor\u001b[39;00m i \u001b[38;5;129;01min\u001b[39;00m \u001b[38;5;28mrange\u001b[39m(\u001b[38;5;28mlen\u001b[39m(temp)):\n\u001b[1;32m----> 5\u001b[0m     y_id \u001b[38;5;241m=\u001b[39m \u001b[43mtemp\u001b[49m\u001b[43m[\u001b[49m\u001b[43mi\u001b[49m\u001b[43m]\u001b[49m\u001b[38;5;241;43m.\u001b[39;49m\u001b[43mfind_element\u001b[49m\u001b[43m(\u001b[49m\u001b[43mBy\u001b[49m\u001b[38;5;241;43m.\u001b[39;49m\u001b[43mID\u001b[49m\u001b[43m,\u001b[49m\u001b[43m  \u001b[49m\u001b[38;5;124;43m'\u001b[39;49m\u001b[38;5;124;43mauthor-text\u001b[39;49m\u001b[38;5;124;43m'\u001b[39;49m\u001b[43m)\u001b[49m\u001b[38;5;241m.\u001b[39mtext\n\u001b[0;32m      6\u001b[0m     y_comment \u001b[38;5;241m=\u001b[39m temp[i]\u001b[38;5;241m.\u001b[39mfind_element(By\u001b[38;5;241m.\u001b[39mID, \u001b[38;5;124m'\u001b[39m\u001b[38;5;124mcontent-text\u001b[39m\u001b[38;5;124m'\u001b[39m)\u001b[38;5;241m.\u001b[39mtext\n\u001b[0;32m      7\u001b[0m     y_like \u001b[38;5;241m=\u001b[39m temp[i]\u001b[38;5;241m.\u001b[39mfind_element(By\u001b[38;5;241m.\u001b[39mID, \u001b[38;5;124m'\u001b[39m\u001b[38;5;124mvote-count-middle\u001b[39m\u001b[38;5;124m'\u001b[39m)\u001b[38;5;241m.\u001b[39mtext\n",
      "File \u001b[1;32mc:\\Users\\pps\\anaconda3\\envs\\study\\Lib\\site-packages\\selenium\\webdriver\\remote\\webelement.py:417\u001b[0m, in \u001b[0;36mWebElement.find_element\u001b[1;34m(self, by, value)\u001b[0m\n\u001b[0;32m    414\u001b[0m     by \u001b[38;5;241m=\u001b[39m By\u001b[38;5;241m.\u001b[39mCSS_SELECTOR\n\u001b[0;32m    415\u001b[0m     value \u001b[38;5;241m=\u001b[39m \u001b[38;5;124mf\u001b[39m\u001b[38;5;124m'\u001b[39m\u001b[38;5;124m[name=\u001b[39m\u001b[38;5;124m\"\u001b[39m\u001b[38;5;132;01m{\u001b[39;00mvalue\u001b[38;5;132;01m}\u001b[39;00m\u001b[38;5;124m\"\u001b[39m\u001b[38;5;124m]\u001b[39m\u001b[38;5;124m'\u001b[39m\n\u001b[1;32m--> 417\u001b[0m \u001b[38;5;28;01mreturn\u001b[39;00m \u001b[38;5;28;43mself\u001b[39;49m\u001b[38;5;241;43m.\u001b[39;49m\u001b[43m_execute\u001b[49m\u001b[43m(\u001b[49m\u001b[43mCommand\u001b[49m\u001b[38;5;241;43m.\u001b[39;49m\u001b[43mFIND_CHILD_ELEMENT\u001b[49m\u001b[43m,\u001b[49m\u001b[43m \u001b[49m\u001b[43m{\u001b[49m\u001b[38;5;124;43m\"\u001b[39;49m\u001b[38;5;124;43musing\u001b[39;49m\u001b[38;5;124;43m\"\u001b[39;49m\u001b[43m:\u001b[49m\u001b[43m \u001b[49m\u001b[43mby\u001b[49m\u001b[43m,\u001b[49m\u001b[43m \u001b[49m\u001b[38;5;124;43m\"\u001b[39;49m\u001b[38;5;124;43mvalue\u001b[39;49m\u001b[38;5;124;43m\"\u001b[39;49m\u001b[43m:\u001b[49m\u001b[43m \u001b[49m\u001b[43mvalue\u001b[49m\u001b[43m}\u001b[49m\u001b[43m)\u001b[49m[\u001b[38;5;124m\"\u001b[39m\u001b[38;5;124mvalue\u001b[39m\u001b[38;5;124m\"\u001b[39m]\n",
      "File \u001b[1;32mc:\\Users\\pps\\anaconda3\\envs\\study\\Lib\\site-packages\\selenium\\webdriver\\remote\\webelement.py:395\u001b[0m, in \u001b[0;36mWebElement._execute\u001b[1;34m(self, command, params)\u001b[0m\n\u001b[0;32m    393\u001b[0m     params \u001b[38;5;241m=\u001b[39m {}\n\u001b[0;32m    394\u001b[0m params[\u001b[38;5;124m\"\u001b[39m\u001b[38;5;124mid\u001b[39m\u001b[38;5;124m\"\u001b[39m] \u001b[38;5;241m=\u001b[39m \u001b[38;5;28mself\u001b[39m\u001b[38;5;241m.\u001b[39m_id\n\u001b[1;32m--> 395\u001b[0m \u001b[38;5;28;01mreturn\u001b[39;00m \u001b[38;5;28;43mself\u001b[39;49m\u001b[38;5;241;43m.\u001b[39;49m\u001b[43m_parent\u001b[49m\u001b[38;5;241;43m.\u001b[39;49m\u001b[43mexecute\u001b[49m\u001b[43m(\u001b[49m\u001b[43mcommand\u001b[49m\u001b[43m,\u001b[49m\u001b[43m \u001b[49m\u001b[43mparams\u001b[49m\u001b[43m)\u001b[49m\n",
      "File \u001b[1;32mc:\\Users\\pps\\anaconda3\\envs\\study\\Lib\\site-packages\\selenium\\webdriver\\remote\\webdriver.py:347\u001b[0m, in \u001b[0;36mWebDriver.execute\u001b[1;34m(self, driver_command, params)\u001b[0m\n\u001b[0;32m    345\u001b[0m response \u001b[38;5;241m=\u001b[39m \u001b[38;5;28mself\u001b[39m\u001b[38;5;241m.\u001b[39mcommand_executor\u001b[38;5;241m.\u001b[39mexecute(driver_command, params)\n\u001b[0;32m    346\u001b[0m \u001b[38;5;28;01mif\u001b[39;00m response:\n\u001b[1;32m--> 347\u001b[0m     \u001b[38;5;28;43mself\u001b[39;49m\u001b[38;5;241;43m.\u001b[39;49m\u001b[43merror_handler\u001b[49m\u001b[38;5;241;43m.\u001b[39;49m\u001b[43mcheck_response\u001b[49m\u001b[43m(\u001b[49m\u001b[43mresponse\u001b[49m\u001b[43m)\u001b[49m\n\u001b[0;32m    348\u001b[0m     response[\u001b[38;5;124m\"\u001b[39m\u001b[38;5;124mvalue\u001b[39m\u001b[38;5;124m\"\u001b[39m] \u001b[38;5;241m=\u001b[39m \u001b[38;5;28mself\u001b[39m\u001b[38;5;241m.\u001b[39m_unwrap_value(response\u001b[38;5;241m.\u001b[39mget(\u001b[38;5;124m\"\u001b[39m\u001b[38;5;124mvalue\u001b[39m\u001b[38;5;124m\"\u001b[39m, \u001b[38;5;28;01mNone\u001b[39;00m))\n\u001b[0;32m    349\u001b[0m     \u001b[38;5;28;01mreturn\u001b[39;00m response\n",
      "File \u001b[1;32mc:\\Users\\pps\\anaconda3\\envs\\study\\Lib\\site-packages\\selenium\\webdriver\\remote\\errorhandler.py:229\u001b[0m, in \u001b[0;36mErrorHandler.check_response\u001b[1;34m(self, response)\u001b[0m\n\u001b[0;32m    227\u001b[0m         alert_text \u001b[38;5;241m=\u001b[39m value[\u001b[38;5;124m\"\u001b[39m\u001b[38;5;124malert\u001b[39m\u001b[38;5;124m\"\u001b[39m]\u001b[38;5;241m.\u001b[39mget(\u001b[38;5;124m\"\u001b[39m\u001b[38;5;124mtext\u001b[39m\u001b[38;5;124m\"\u001b[39m)\n\u001b[0;32m    228\u001b[0m     \u001b[38;5;28;01mraise\u001b[39;00m exception_class(message, screen, stacktrace, alert_text)  \u001b[38;5;66;03m# type: ignore[call-arg]  # mypy is not smart enough here\u001b[39;00m\n\u001b[1;32m--> 229\u001b[0m \u001b[38;5;28;01mraise\u001b[39;00m exception_class(message, screen, stacktrace)\n",
      "\u001b[1;31mStaleElementReferenceException\u001b[0m: Message: stale element reference: stale element not found in the current frame\n  (Session info: chrome=125.0.6422.142); For documentation on this error, please visit: https://www.selenium.dev/documentation/webdriver/troubleshooting/errors#stale-element-reference-exception\nStacktrace:\n\tGetHandleVerifier [0x00007FF65C3B1F52+60322]\n\t(No symbol) [0x00007FF65C32CEC9]\n\t(No symbol) [0x00007FF65C1E7EBA]\n\t(No symbol) [0x00007FF65C1EDCEE]\n\t(No symbol) [0x00007FF65C1F0641]\n\t(No symbol) [0x00007FF65C1F06E0]\n\t(No symbol) [0x00007FF65C23733B]\n\t(No symbol) [0x00007FF65C23773C]\n\t(No symbol) [0x00007FF65C22AEEC]\n\t(No symbol) [0x00007FF65C25C25F]\n\t(No symbol) [0x00007FF65C22ADB6]\n\t(No symbol) [0x00007FF65C25C430]\n\t(No symbol) [0x00007FF65C27BC80]\n\t(No symbol) [0x00007FF65C25BFC3]\n\t(No symbol) [0x00007FF65C229617]\n\t(No symbol) [0x00007FF65C22A211]\n\tGetHandleVerifier [0x00007FF65C6C94AD+3301629]\n\tGetHandleVerifier [0x00007FF65C7136D3+3605283]\n\tGetHandleVerifier [0x00007FF65C709450+3563680]\n\tGetHandleVerifier [0x00007FF65C464326+790390]\n\t(No symbol) [0x00007FF65C33750F]\n\t(No symbol) [0x00007FF65C333404]\n\t(No symbol) [0x00007FF65C333592]\n\t(No symbol) [0x00007FF65C322F9F]\n\tBaseThreadInitThunk [0x00007FFEBB407344+20]\n\tRtlUserThreadStart [0x00007FFEBCA7CC91+33]\n"
     ]
    }
   ],
   "source": [
    "data_dict = {'ID':[],'Comments':[],'Likes':[]}\n",
    "\n",
    "\n",
    "for i in range(len(temp)):\n",
    "    y_id = temp[i].find_element(By.ID,  'author-text').text\n",
    "    y_comment = temp[i].find_element(By.ID, 'content-text').text\n",
    "    y_like = temp[i].find_element(By.ID, 'vote-count-middle').text\n",
    "    \n",
    "    data_dict[\"ID\"].append(y_id)\n",
    "    data_dict[\"Comments\"].append(y_comment)\n",
    "    data_dict[\"Likes\"].append(y_like)\n",
    "\n",
    "pd.DataFrame(data_dict)"
   ]
  }
 ],
 "metadata": {
  "kernelspec": {
   "display_name": "study",
   "language": "python",
   "name": "python3"
  },
  "language_info": {
   "codemirror_mode": {
    "name": "ipython",
    "version": 3
   },
   "file_extension": ".py",
   "mimetype": "text/x-python",
   "name": "python",
   "nbconvert_exporter": "python",
   "pygments_lexer": "ipython3",
   "version": "3.11.9"
  }
 },
 "nbformat": 4,
 "nbformat_minor": 2
}
