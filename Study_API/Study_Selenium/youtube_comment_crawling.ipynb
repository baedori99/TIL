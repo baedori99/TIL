{
 "cells": [
  {
   "cell_type": "markdown",
   "metadata": {},
   "source": [
    "# Youtube Comment Crawling"
   ]
  },
  {
   "cell_type": "markdown",
   "metadata": {},
   "source": [
    "### Youtube 댓글을 크롤링하는 목적\n",
    "- 예시\n",
    "    - 브이로그의 댓글이 악플이 달렸는지 선플이 달렸는지 확인을 하고 싶다. -> 브이로그의 주소를 받아서 쓰면 된다\n",
    "    - 축구경기를 할 때 사람들의 반을을 보고 싶다. -> 유튜브 검색창에 축구를 치고 영상에 들어가서 댓글을 크롤링하면 된다."
   ]
  },
  {
   "cell_type": "markdown",
   "metadata": {},
   "source": [
    "- 목적\n",
    "    - 상황: 대형 유튜버인 내가 내 유튜브 영상에 있는 댓글들에서 악플을 찾고 싶다\n",
    "    - 댓글들을 수집해보자"
   ]
  },
  {
   "cell_type": "markdown",
   "metadata": {},
   "source": [
    "- 과제 목록\n",
    "    1. scroll 횟수 = 5번\n",
    "    2. 댓글 수집 시작\n",
    "        1. 대댓글 ❌\n",
    "        2. ID / 댓글 / 좋아요 Data 크롤링\n",
    "        3. Data에 video_id열 추가 (`v=video_id`)"
   ]
  },
  {
   "cell_type": "markdown",
   "metadata": {},
   "source": [
    "### Youtube 크롤링을 하기 전 결정해야 할 일\n",
    "\n",
    "- Selenium으로 만들기"
   ]
  },
  {
   "cell_type": "markdown",
   "metadata": {},
   "source": [
    "### URL 파악하기\n",
    "- Youtube의 도메인은 \"https://www.youtube.com/\"\n",
    "- 내가 크롤링하고자 하는 영상의 주소는 \"https://www.youtube.com/watch?v=SsJg6x-inFw\"\n",
    "- 키\n",
    "    - `watch?v=`\n",
    "        - 뒤에 영상의 고유주소"
   ]
  },
  {
   "cell_type": "code",
   "execution_count": 1,
   "metadata": {},
   "outputs": [],
   "source": [
    "from selenium import webdriver\n",
    "from selenium.webdriver.chrome.options import Options \n",
    "from selenium.webdriver.common.keys import Keys\n",
    "from selenium.webdriver.common.by import By\n",
    "from selenium.webdriver import ActionChains\n",
    "from selenium.webdriver.support.ui import WebDriverWait\n",
    "from selenium.webdriver.support import expected_conditions as EC\n",
    "import time\n",
    "import pandas as pd"
   ]
  },
  {
   "cell_type": "code",
   "execution_count": 83,
   "metadata": {},
   "outputs": [],
   "source": [
    "# 크롬창 열기\n",
    "options = Options()\n",
    "driver = webdriver.Chrome(options=options)\n",
    "driver.maximize_window()\n",
    "wait = WebDriverWait(driver, 10)\n",
    "wait.until(EC.presence_of_element_located((By.TAG_NAME, \"body\")))\n",
    "video_id = \"SsJg6x-inFw\"\n",
    "# 유튜브 주소 들어가기\n",
    "driver.get(\"https://www.youtube.com/watch?v=\" + video_id)\n",
    "\n"
   ]
  },
  {
   "cell_type": "code",
   "execution_count": 84,
   "metadata": {},
   "outputs": [],
   "source": [
    "# 스크롤 5번하기\n",
    "n_scroll = 5\n",
    "ActionChains(driver).send_keys(\"k\").perform()\n",
    "last_height = driver.execute_script(\"return document.documentElement.scrollHeight\")\n",
    "\n",
    "# for i in range(5):\n",
    "    \n",
    "#     driver.execute_script(\"window.scrollTo(0, document.documentElement.scrollHeight);\")\n",
    "    \n",
    "    \n",
    "#     new_height = driver.execute_script(\"return document.documentElement.scrollHeight\")\n",
    "#     if new_height == last_height:\n",
    "#         break\n",
    "#     last_height = new_height\n",
    "    \n",
    "\n",
    "# time.sleep(2)\n",
    "\n",
    "# 페이지를 5번 스크롤\n",
    "# for _ in range(n_scroll):\n",
    "#     # JavaScript를 사용하여 페이지 스크롤\n",
    "#     driver.execute_script(\"window.scrollBy(0, window.innerHeight);\")\n",
    "#     # 각 스크롤 후 약간의 지연을 추가하여 페이지가 로드될 시간을 줍니다.\n",
    "#     time.sleep(1)\n",
    "#     wait = WebDriverWait(driver, 10)\n",
    "#     wait.until(EC.presence_of_element_located((By.TAG_NAME, \"body\")))\n",
    "\n",
    "container=driver.find_element(By.TAG_NAME, \"html\")\n",
    "before_top = driver.execute_script(\"return arguments[0].scrollTop\", container)\n",
    "\n",
    "for i in range(5):\n",
    "    driver.execute_script(\"arguments[0].scrollTop = arguments[0].scrollHeight\", container)\n",
    "    after_top = driver.execute_script(\"return arguments[0].scrollTop\", container)\n",
    "    time.sleep(2)\n",
    "    # if int(before_top) == int(after_top):\n",
    "    #     break\n",
    "        \n",
    "    before_top = after_top "
   ]
  },
  {
   "cell_type": "code",
   "execution_count": 167,
   "metadata": {},
   "outputs": [],
   "source": [
    "# 유튜브 프리미엄 창 없애기\n",
    "try:\n",
    "    driver.find_element(By.CSS_SELECTOR, \"#dismiss-button > a\").click()\n",
    "except:\n",
    "    pass"
   ]
  },
  {
   "cell_type": "code",
   "execution_count": 54,
   "metadata": {},
   "outputs": [
    {
     "data": {
      "text/plain": [
       "'@Wal_seop'"
      ]
     },
     "execution_count": 54,
     "metadata": {},
     "output_type": "execute_result"
    }
   ],
   "source": [
    "# temp = driver.find_element(By.ID, \"comments\").find_element(By.ID, \"contents\").find_elements(By.CLASS_NAME, \"style-scope.ytd-item-section-renderer\")\n",
    "# temp = driver.find_elements(By.ID, \"context-text\")\n",
    "# print(temp)\n",
    "\n",
    "# 아이디 받아오기\n",
    "# y_id = temp[1].find_element(By.ID,  'author-text').text\n",
    "# print(y_id)\n",
    "\n",
    "y_id = driver.find_elements(By.CSS_SELECTOR, '#author-text')[2]\n",
    "y_id.text\n"
   ]
  },
  {
   "cell_type": "code",
   "execution_count": 47,
   "metadata": {},
   "outputs": [
    {
     "name": "stdout",
     "output_type": "stream",
     "text": [
      "또또또 설레발친다. 지나가던 한화팬입니다.\n",
      "한화의 김경문, 롯데의 김태형.... 오랫동안 꼴찌 였던 팀들이 서서히 자리가 잡혀가고 있음. 이래서 감독이 중요한 거구나...\n",
      "이거 한화 계속 본 사람들은 공감할거임.\n",
      "문현빈이 롯데전 이후로 병살타로 맛이 가있었고, 하필 1루에 주자 있는데 대타 문현빈 보고 이게 뭔가 했음. 그런데 이걸 스퀴즈 번트로 역전도 해, 클러치상황만 오면 병살타를 치던 문현빈이 짜릿하게 웃고있어. 그저 대 경 문.\n",
      "아니...한화가 작전야구를!?!\n",
      "김경문 감독님  명장   강인권  ㅈ장  ㅋㅋㅋㅋ 땡큐 강인권  ㅋㅋㅋㅋ\n"
     ]
    }
   ],
   "source": [
    "# # 댓글 받아오기\n",
    "# y_comment = temps[i].find_element(By.ID, 'content-text').text\n",
    "# print(y_comment)\n",
    "\n",
    "y_comment = driver.find_elements(By.CSS_SELECTOR, '#content-text')\n",
    "for i in range(5):\n",
    "    print(y_comment[i].text)"
   ]
  },
  {
   "cell_type": "code",
   "execution_count": 60,
   "metadata": {},
   "outputs": [
    {
     "name": "stdout",
     "output_type": "stream",
     "text": [
      "87\n"
     ]
    }
   ],
   "source": [
    "# 좋아요 받아오기\n",
    "# y_like = temp[0].find_element(By.ID, 'vote-count-middle').text\n",
    "# print(y_like)\n",
    "\n",
    "y_like = driver.find_elements(By.XPATH, '//*[@id=\"vote-count-middle\"]')\n",
    "print(len(y_like))"
   ]
  },
  {
   "cell_type": "code",
   "execution_count": 59,
   "metadata": {},
   "outputs": [
    {
     "name": "stdout",
     "output_type": "stream",
     "text": [
      "87\n"
     ]
    }
   ],
   "source": [
    "cnt = driver.find_elements(By.CLASS_NAME, 'style-scope ytd-comment-view-model')\n",
    "print(len(cnt))"
   ]
  },
  {
   "cell_type": "code",
   "execution_count": 86,
   "metadata": {},
   "outputs": [],
   "source": [
    "data_dict = {'ID':[],'Comments':[],'Likes':[]}\n",
    "cnt = driver.find_elements(By.CLASS_NAME, 'style-scope ytd-comment-view-model')\n",
    "\n",
    "for i in range(len(cnt)):\n",
    "    y_id = driver.find_elements(By.CSS_SELECTOR, '#author-text')[i].text\n",
    "    y_comment = driver.find_elements(By.CSS_SELECTOR, '#content-text')[i].text\n",
    "    y_like = driver.find_elements(By.XPATH, '//*[@id=\"vote-count-middle\"]')[i].text\n",
    "    \n",
    "    data_dict[\"ID\"].append(y_id)\n",
    "    data_dict[\"Comments\"].append(y_comment)\n",
    "    data_dict[\"Likes\"].append(y_like)\n",
    "\n",
    "y_comment_info = pd.DataFrame(data_dict)"
   ]
  },
  {
   "cell_type": "code",
   "execution_count": 77,
   "metadata": {},
   "outputs": [
    {
     "data": {
      "text/html": [
       "<div>\n",
       "<style scoped>\n",
       "    .dataframe tbody tr th:only-of-type {\n",
       "        vertical-align: middle;\n",
       "    }\n",
       "\n",
       "    .dataframe tbody tr th {\n",
       "        vertical-align: top;\n",
       "    }\n",
       "\n",
       "    .dataframe thead th {\n",
       "        text-align: right;\n",
       "    }\n",
       "</style>\n",
       "<table border=\"1\" class=\"dataframe\">\n",
       "  <thead>\n",
       "    <tr style=\"text-align: right;\">\n",
       "      <th></th>\n",
       "      <th>ID</th>\n",
       "      <th>Comments</th>\n",
       "      <th>Likes</th>\n",
       "    </tr>\n",
       "  </thead>\n",
       "  <tbody>\n",
       "    <tr>\n",
       "      <th>0</th>\n",
       "      <td>@user-kb1ht2ck9t</td>\n",
       "      <td>또또또 설레발친다. 지나가던 한화팬입니다.</td>\n",
       "      <td>852</td>\n",
       "    </tr>\n",
       "    <tr>\n",
       "      <th>1</th>\n",
       "      <td>@Wal_seop</td>\n",
       "      <td>이거 한화 계속 본 사람들은 공감할거임.\\n문현빈이 롯데전 이후로 병살타로 맛이 가...</td>\n",
       "      <td>554</td>\n",
       "    </tr>\n",
       "    <tr>\n",
       "      <th>2</th>\n",
       "      <td>@friendnabe</td>\n",
       "      <td>한화의 김경문, 롯데의 김태형.... 오랫동안 꼴찌 였던 팀들이 서서히 자리가 잡혀...</td>\n",
       "      <td>740</td>\n",
       "    </tr>\n",
       "    <tr>\n",
       "      <th>3</th>\n",
       "      <td>@Foo_Fighters_4229</td>\n",
       "      <td>아니...한화가 작전야구를!?!</td>\n",
       "      <td>198</td>\n",
       "    </tr>\n",
       "    <tr>\n",
       "      <th>4</th>\n",
       "      <td>@user-lg8tu9du7w</td>\n",
       "      <td>김경문 감독님  명장   강인권  ㅈ장  ㅋㅋㅋㅋ 땡큐 강인권  ㅋㅋㅋㅋ</td>\n",
       "      <td>39</td>\n",
       "    </tr>\n",
       "    <tr>\n",
       "      <th>...</th>\n",
       "      <td>...</td>\n",
       "      <td>...</td>\n",
       "      <td>...</td>\n",
       "    </tr>\n",
       "    <tr>\n",
       "      <th>95</th>\n",
       "      <td>@AAA-qx4cl</td>\n",
       "      <td>와 김경문 감독님 나이가 엄청 체감되네... 건강하세요.</td>\n",
       "      <td></td>\n",
       "    </tr>\n",
       "    <tr>\n",
       "      <th>96</th>\n",
       "      <td>@user-en3rf4zo3y</td>\n",
       "      <td>내가 적은 글이 mbc뉴스에?!?!</td>\n",
       "      <td></td>\n",
       "    </tr>\n",
       "    <tr>\n",
       "      <th>97</th>\n",
       "      <td>@user-firepan2024</td>\n",
       "      <td>스퀴즈 번트가 나올 줄이야!! 짜릿한 작전 야구였어요~!</td>\n",
       "      <td></td>\n",
       "    </tr>\n",
       "    <tr>\n",
       "      <th>98</th>\n",
       "      <td>@Ydh0181</td>\n",
       "      <td>게임을 무조건 이기고봐야지 불문율따윈 없애라</td>\n",
       "      <td>1</td>\n",
       "    </tr>\n",
       "    <tr>\n",
       "      <th>99</th>\n",
       "      <td>@user-zu7lg9tf7k</td>\n",
       "      <td>전 감독 그만둘시기부터 잘하기 시작한 한화.신기하네.</td>\n",
       "      <td>1</td>\n",
       "    </tr>\n",
       "  </tbody>\n",
       "</table>\n",
       "<p>100 rows × 3 columns</p>\n",
       "</div>"
      ],
      "text/plain": [
       "                    ID                                           Comments  \\\n",
       "0     @user-kb1ht2ck9t                            또또또 설레발친다. 지나가던 한화팬입니다.   \n",
       "1            @Wal_seop  이거 한화 계속 본 사람들은 공감할거임.\\n문현빈이 롯데전 이후로 병살타로 맛이 가...   \n",
       "2          @friendnabe  한화의 김경문, 롯데의 김태형.... 오랫동안 꼴찌 였던 팀들이 서서히 자리가 잡혀...   \n",
       "3   @Foo_Fighters_4229                                  아니...한화가 작전야구를!?!   \n",
       "4     @user-lg8tu9du7w           김경문 감독님  명장   강인권  ㅈ장  ㅋㅋㅋㅋ 땡큐 강인권  ㅋㅋㅋㅋ   \n",
       "..                 ...                                                ...   \n",
       "95          @AAA-qx4cl                    와 김경문 감독님 나이가 엄청 체감되네... 건강하세요.   \n",
       "96    @user-en3rf4zo3y                                내가 적은 글이 mbc뉴스에?!?!   \n",
       "97   @user-firepan2024                    스퀴즈 번트가 나올 줄이야!! 짜릿한 작전 야구였어요~!   \n",
       "98            @Ydh0181                           게임을 무조건 이기고봐야지 불문율따윈 없애라   \n",
       "99    @user-zu7lg9tf7k                      전 감독 그만둘시기부터 잘하기 시작한 한화.신기하네.   \n",
       "\n",
       "   Likes  \n",
       "0    852  \n",
       "1    554  \n",
       "2    740  \n",
       "3    198  \n",
       "4     39  \n",
       "..   ...  \n",
       "95        \n",
       "96        \n",
       "97        \n",
       "98     1  \n",
       "99     1  \n",
       "\n",
       "[100 rows x 3 columns]"
      ]
     },
     "execution_count": 77,
     "metadata": {},
     "output_type": "execute_result"
    }
   ],
   "source": [
    "y_comment_info"
   ]
  },
  {
   "cell_type": "code",
   "execution_count": 89,
   "metadata": {},
   "outputs": [
    {
     "data": {
      "text/html": [
       "<div>\n",
       "<style scoped>\n",
       "    .dataframe tbody tr th:only-of-type {\n",
       "        vertical-align: middle;\n",
       "    }\n",
       "\n",
       "    .dataframe tbody tr th {\n",
       "        vertical-align: top;\n",
       "    }\n",
       "\n",
       "    .dataframe thead th {\n",
       "        text-align: right;\n",
       "    }\n",
       "</style>\n",
       "<table border=\"1\" class=\"dataframe\">\n",
       "  <thead>\n",
       "    <tr style=\"text-align: right;\">\n",
       "      <th></th>\n",
       "      <th>ID</th>\n",
       "      <th>Comments</th>\n",
       "      <th>Likes</th>\n",
       "    </tr>\n",
       "    <tr>\n",
       "      <th>Video_id</th>\n",
       "      <th></th>\n",
       "      <th></th>\n",
       "      <th></th>\n",
       "    </tr>\n",
       "  </thead>\n",
       "  <tbody>\n",
       "    <tr>\n",
       "      <th>SsJg6x-inFw</th>\n",
       "      <td>@user-kb1ht2ck9t</td>\n",
       "      <td>또또또 설레발친다. 지나가던 한화팬입니다.</td>\n",
       "      <td>852</td>\n",
       "    </tr>\n",
       "    <tr>\n",
       "      <th>SsJg6x-inFw</th>\n",
       "      <td>@Wal_seop</td>\n",
       "      <td>이거 한화 계속 본 사람들은 공감할거임.\\n문현빈이 롯데전 이후로 병살타로 맛이 가...</td>\n",
       "      <td>554</td>\n",
       "    </tr>\n",
       "    <tr>\n",
       "      <th>SsJg6x-inFw</th>\n",
       "      <td>@friendnabe</td>\n",
       "      <td>한화의 김경문, 롯데의 김태형.... 오랫동안 꼴찌 였던 팀들이 서서히 자리가 잡혀...</td>\n",
       "      <td>740</td>\n",
       "    </tr>\n",
       "    <tr>\n",
       "      <th>SsJg6x-inFw</th>\n",
       "      <td>@Foo_Fighters_4229</td>\n",
       "      <td>아니...한화가 작전야구를!?!</td>\n",
       "      <td>198</td>\n",
       "    </tr>\n",
       "    <tr>\n",
       "      <th>SsJg6x-inFw</th>\n",
       "      <td>@user-lg8tu9du7w</td>\n",
       "      <td>김경문 감독님  명장   강인권  ㅈ장  ㅋㅋㅋㅋ 땡큐 강인권  ㅋㅋㅋㅋ</td>\n",
       "      <td>39</td>\n",
       "    </tr>\n",
       "    <tr>\n",
       "      <th>...</th>\n",
       "      <td>...</td>\n",
       "      <td>...</td>\n",
       "      <td>...</td>\n",
       "    </tr>\n",
       "    <tr>\n",
       "      <th>SsJg6x-inFw</th>\n",
       "      <td>@AAA-qx4cl</td>\n",
       "      <td>와 김경문 감독님 나이가 엄청 체감되네... 건강하세요.</td>\n",
       "      <td></td>\n",
       "    </tr>\n",
       "    <tr>\n",
       "      <th>SsJg6x-inFw</th>\n",
       "      <td>@user-en3rf4zo3y</td>\n",
       "      <td>내가 적은 글이 mbc뉴스에?!?!</td>\n",
       "      <td></td>\n",
       "    </tr>\n",
       "    <tr>\n",
       "      <th>SsJg6x-inFw</th>\n",
       "      <td>@user-firepan2024</td>\n",
       "      <td>스퀴즈 번트가 나올 줄이야!! 짜릿한 작전 야구였어요~!</td>\n",
       "      <td></td>\n",
       "    </tr>\n",
       "    <tr>\n",
       "      <th>SsJg6x-inFw</th>\n",
       "      <td>@Ydh0181</td>\n",
       "      <td>게임을 무조건 이기고봐야지 불문율따윈 없애라</td>\n",
       "      <td>1</td>\n",
       "    </tr>\n",
       "    <tr>\n",
       "      <th>SsJg6x-inFw</th>\n",
       "      <td>@user-zu7lg9tf7k</td>\n",
       "      <td>전 감독 그만둘시기부터 잘하기 시작한 한화.신기하네.</td>\n",
       "      <td>1</td>\n",
       "    </tr>\n",
       "  </tbody>\n",
       "</table>\n",
       "<p>100 rows × 3 columns</p>\n",
       "</div>"
      ],
      "text/plain": [
       "                             ID  \\\n",
       "Video_id                          \n",
       "SsJg6x-inFw    @user-kb1ht2ck9t   \n",
       "SsJg6x-inFw           @Wal_seop   \n",
       "SsJg6x-inFw         @friendnabe   \n",
       "SsJg6x-inFw  @Foo_Fighters_4229   \n",
       "SsJg6x-inFw    @user-lg8tu9du7w   \n",
       "...                         ...   \n",
       "SsJg6x-inFw          @AAA-qx4cl   \n",
       "SsJg6x-inFw    @user-en3rf4zo3y   \n",
       "SsJg6x-inFw   @user-firepan2024   \n",
       "SsJg6x-inFw            @Ydh0181   \n",
       "SsJg6x-inFw    @user-zu7lg9tf7k   \n",
       "\n",
       "                                                      Comments Likes  \n",
       "Video_id                                                              \n",
       "SsJg6x-inFw                            또또또 설레발친다. 지나가던 한화팬입니다.   852  \n",
       "SsJg6x-inFw  이거 한화 계속 본 사람들은 공감할거임.\\n문현빈이 롯데전 이후로 병살타로 맛이 가...   554  \n",
       "SsJg6x-inFw  한화의 김경문, 롯데의 김태형.... 오랫동안 꼴찌 였던 팀들이 서서히 자리가 잡혀...   740  \n",
       "SsJg6x-inFw                                  아니...한화가 작전야구를!?!   198  \n",
       "SsJg6x-inFw           김경문 감독님  명장   강인권  ㅈ장  ㅋㅋㅋㅋ 땡큐 강인권  ㅋㅋㅋㅋ    39  \n",
       "...                                                        ...   ...  \n",
       "SsJg6x-inFw                    와 김경문 감독님 나이가 엄청 체감되네... 건강하세요.        \n",
       "SsJg6x-inFw                                내가 적은 글이 mbc뉴스에?!?!        \n",
       "SsJg6x-inFw                    스퀴즈 번트가 나올 줄이야!! 짜릿한 작전 야구였어요~!        \n",
       "SsJg6x-inFw                           게임을 무조건 이기고봐야지 불문율따윈 없애라     1  \n",
       "SsJg6x-inFw                      전 감독 그만둘시기부터 잘하기 시작한 한화.신기하네.     1  \n",
       "\n",
       "[100 rows x 3 columns]"
      ]
     },
     "execution_count": 89,
     "metadata": {},
     "output_type": "execute_result"
    }
   ],
   "source": [
    "y_comment_info[\"Video_id\"] = video_id\n",
    "\n",
    "y_comment_info.set_index(\"Video_id\")"
   ]
  }
 ],
 "metadata": {
  "kernelspec": {
   "display_name": "study",
   "language": "python",
   "name": "python3"
  },
  "language_info": {
   "codemirror_mode": {
    "name": "ipython",
    "version": 3
   },
   "file_extension": ".py",
   "mimetype": "text/x-python",
   "name": "python",
   "nbconvert_exporter": "python",
   "pygments_lexer": "ipython3",
   "version": "3.11.9"
  }
 },
 "nbformat": 4,
 "nbformat_minor": 2
}
