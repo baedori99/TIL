{
 "cells": [
  {
   "cell_type": "markdown",
   "metadata": {},
   "source": [
    "# LLM(Large Language Model)"
   ]
  },
  {
   "cell_type": "markdown",
   "metadata": {},
   "source": [
    "## 1. LLM 함수 만들기"
   ]
  },
  {
   "cell_type": "code",
   "execution_count": 1,
   "metadata": {},
   "outputs": [
    {
     "data": {
      "text/plain": [
       "True"
      ]
     },
     "execution_count": 1,
     "metadata": {},
     "output_type": "execute_result"
    }
   ],
   "source": [
    "from dotenv import load_dotenv\n",
    "\n",
    "load_dotenv()"
   ]
  },
  {
   "cell_type": "code",
   "execution_count": 2,
   "metadata": {},
   "outputs": [
    {
     "data": {
      "text/plain": [
       "<openai.OpenAI at 0x21c04bb4e50>"
      ]
     },
     "execution_count": 2,
     "metadata": {},
     "output_type": "execute_result"
    }
   ],
   "source": [
    "# langchain 없이 gpt를 쓸 때 쓰는 모듈이다.\n",
    "# from openai import OpenAI\n",
    "\n",
    "llm = OpenAI()\n",
    "llm"
   ]
  },
  {
   "cell_type": "code",
   "execution_count": 9,
   "metadata": {},
   "outputs": [],
   "source": [
    "# langchain을 이용해서 gpt를 모듈이다\n",
    "from langchain_openai import ChatOpenAI\n",
    "\n",
    "llm = ChatOpenAI()"
   ]
  },
  {
   "cell_type": "code",
   "execution_count": 3,
   "metadata": {},
   "outputs": [],
   "source": [
    "# 문자열 템플릿\n",
    "from langchain_core.prompts import PromptTemplate\n",
    "\n",
    "# # 프롬프트 템플릿을 정의\n",
    "# template = f\"\"\"\\\n",
    "# \"\"\"\n",
    "\n",
    "# # PromptTemplate 인스턴스를 생성\n",
    "# prompt = PromptTemplate.from_template(template)\n",
    "\n",
    "# # chain 연결 (LCEL)\n",
    "# 완성된 프롬프트를 LLM에 전달되어, 모델이 입력된 질문에 대한 답변을 생성하게 된다.\n",
    "# chain = prompt | llm"
   ]
  },
  {
   "cell_type": "code",
   "execution_count": 8,
   "metadata": {},
   "outputs": [],
   "source": [
    "# LLM 함수 만들기\n",
    "\n",
    "def create_chain(template):\n",
    "    prompt = PromptTemplate.from_template(template)\n",
    "    chain = prompt | llm\n",
    "    return chain"
   ]
  },
  {
   "cell_type": "code",
   "execution_count": 10,
   "metadata": {},
   "outputs": [
    {
     "data": {
      "text/plain": [
       "AIMessage(content='{\\n    \"선수\": \"긍정\",\\n    \"경기\": \"부정\",\\n    \"영상\": \"-\"\\n}', response_metadata={'token_usage': {'completion_tokens': 29, 'prompt_tokens': 186, 'total_tokens': 215}, 'model_name': 'gpt-3.5-turbo', 'system_fingerprint': None, 'finish_reason': 'stop', 'logprobs': None}, id='run-e3ad5173-956c-47fe-a169-70165fe80d6e-0', usage_metadata={'input_tokens': 186, 'output_tokens': 29, 'total_tokens': 215})"
      ]
     },
     "execution_count": 10,
     "metadata": {},
     "output_type": "execute_result"
    }
   ],
   "source": [
    "template = \"\"\"\\\n",
    "# INSTRUCTION\n",
    "- 당신은 긍/부정 분류기입니다.\n",
    "- 각 대상 '선수', '경기', '영상'에 대한 평가가 긍정적인지 부정적인지를 분류하세요.\n",
    "- 대상에 대한 평가가 없는 경우 '-'을 표시하세요.\n",
    "- 결과를 다음과 같은 딕셔너리 형식으로 출력하세요:\n",
    "\n",
    "    \"선수\": \"긍정/부정/-\",\n",
    "    \"경기\": \"긍정/부정/-\",\n",
    "    \"영상\": \"긍정/부정/-\"\n",
    "\n",
    "# SENTENCE: {sentence}\n",
    "\"\"\"\n",
    "sentence = \"경기내용이 별로였지만, 이 선수는 잘했어요.\"\n",
    "chain = create_chain(template)\n",
    "chain.invoke({'sentence':sentence})"
   ]
  },
  {
   "cell_type": "markdown",
   "metadata": {},
   "source": [
    "## "
   ]
  }
 ],
 "metadata": {
  "kernelspec": {
   "display_name": "study",
   "language": "python",
   "name": "python3"
  },
  "language_info": {
   "codemirror_mode": {
    "name": "ipython",
    "version": 3
   },
   "file_extension": ".py",
   "mimetype": "text/x-python",
   "name": "python",
   "nbconvert_exporter": "python",
   "pygments_lexer": "ipython3",
   "version": "3.11.9"
  }
 },
 "nbformat": 4,
 "nbformat_minor": 2
}
