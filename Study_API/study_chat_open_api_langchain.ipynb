{
 "cells": [
  {
   "cell_type": "markdown",
   "metadata": {},
   "source": [
    "# Langchain"
   ]
  },
  {
   "cell_type": "markdown",
   "metadata": {},
   "source": [
    "`pip install langchain-openai`"
   ]
  },
  {
   "cell_type": "code",
   "execution_count": 9,
   "metadata": {},
   "outputs": [
    {
     "data": {
      "text/plain": [
       "True"
      ]
     },
     "execution_count": 9,
     "metadata": {},
     "output_type": "execute_result"
    }
   ],
   "source": [
    "import os\n",
    "from dotenv import load_dotenv\n",
    "\n",
    "load_dotenv()"
   ]
  },
  {
   "cell_type": "code",
   "execution_count": null,
   "metadata": {},
   "outputs": [],
   "source": []
  },
  {
   "cell_type": "code",
   "execution_count": 10,
   "metadata": {},
   "outputs": [],
   "source": [
    "from langchain_openai import ChatOpenAI\n",
    "\n",
    "llm = ChatOpenAI()"
   ]
  },
  {
   "cell_type": "code",
   "execution_count": 11,
   "metadata": {},
   "outputs": [
    {
     "data": {
      "text/plain": [
       "AIMessage(content='Langsmith can help with testing by providing automated testing tools and frameworks that can be used to run tests on code written in different languages. These tools can help identify bugs and errors in the code, as well as ensure that the code meets the requirements and specifications set out for the project. Additionally, Langsmith can provide support for writing and executing test cases, analyzing test results, and tracking and managing testing activities. Overall, Langsmith can streamline the testing process and improve the quality and reliability of the software being developed.', response_metadata={'token_usage': {'completion_tokens': 103, 'prompt_tokens': 15, 'total_tokens': 118}, 'model_name': 'gpt-3.5-turbo', 'system_fingerprint': None, 'finish_reason': 'stop', 'logprobs': None}, id='run-4b392c97-42be-457b-98bc-d35be1dbe4a2-0', usage_metadata={'input_tokens': 15, 'output_tokens': 103, 'total_tokens': 118})"
      ]
     },
     "execution_count": 11,
     "metadata": {},
     "output_type": "execute_result"
    }
   ],
   "source": [
    "llm.invoke(\"how can langsmith help with testing?\")"
   ]
  },
  {
   "cell_type": "code",
   "execution_count": 14,
   "metadata": {},
   "outputs": [
    {
     "data": {
      "text/plain": [
       "AIMessage(content='긍정', response_metadata={'token_usage': {'completion_tokens': 3, 'prompt_tokens': 52, 'total_tokens': 55}, 'model_name': 'gpt-3.5-turbo', 'system_fingerprint': None, 'finish_reason': 'stop', 'logprobs': None}, id='run-59d3bd3d-8771-4cae-92cd-6cb69e4a9e6d-0', usage_metadata={'input_tokens': 52, 'output_tokens': 3, 'total_tokens': 55})"
      ]
     },
     "execution_count": 14,
     "metadata": {},
     "output_type": "execute_result"
    }
   ],
   "source": [
    "sentence = \"이거 개재밌음\"\n",
    "\n",
    "prompt = f\"\"\"\\\n",
    "{sentence}를 '긍정', '부정'으로 판단해서 이를 '긍정','부정'으로 답변해줘    \n",
    "\"\"\"\n",
    "\n",
    "llm.invoke(prompt)"
   ]
  },
  {
   "cell_type": "code",
   "execution_count": null,
   "metadata": {},
   "outputs": [],
   "source": [
    "prompt = f\"\"\"\\\n",
    "# INSTRUCTION\n",
    "- 당신은 긍/부정 분류기입니다.\n",
    "- SENTENCE를 \"긍정\", \"부정\" 중 하나로 분류하세요.\n",
    "\n",
    "# SENTENCE: {sentence}    \n",
    "\"\"\""
   ]
  },
  {
   "cell_type": "markdown",
   "metadata": {},
   "source": [
    "---"
   ]
  },
  {
   "cell_type": "code",
   "execution_count": 15,
   "metadata": {},
   "outputs": [],
   "source": [
    "import pandas as pd"
   ]
  },
  {
   "cell_type": "code",
   "execution_count": 49,
   "metadata": {},
   "outputs": [],
   "source": [
    "df_comment = pd.read_csv(\"C:/Users/pps/Desktop/TIL/youtube_comments_crawling.csv\", encoding= 'utf-8')"
   ]
  },
  {
   "cell_type": "code",
   "execution_count": null,
   "metadata": {},
   "outputs": [],
   "source": [
    "# df_comment.drop(columns=['Unnamed: 0'], inplace=True)"
   ]
  },
  {
   "cell_type": "code",
   "execution_count": null,
   "metadata": {},
   "outputs": [],
   "source": [
    "prompt = f\"\"\"\\\n",
    "# INSTRUCTION\n",
    "- 당신은 긍/부정 분류기입니다.\n",
    "- SENTENCE를 \"긍정\", \"부정\" 중 하나로 분류하세요.\n",
    "\n",
    "# SENTENCE: {sentence}\n",
    "\"\"\""
   ]
  },
  {
   "cell_type": "code",
   "execution_count": 27,
   "metadata": {},
   "outputs": [],
   "source": [
    "from langchain_core.prompts import PromptTemplate\n",
    "\n",
    "template = \"\"\"\\\n",
    "# INSTRUCTION\n",
    "- 당신은 긍/부정 분류기입니다.\n",
    "- SENTENCE를 [\"긍정\", \"부정\"] 중 하나로 하나의 문자열로 분류하세요.\n",
    "\n",
    "# SENTENCE: {sentence}\n",
    "\"\"\"\n",
    "\n",
    "prompt = PromptTemplate.from_template(template)\n",
    "chain = prompt | llm\n",
    "\n"
   ]
  },
  {
   "cell_type": "code",
   "execution_count": 38,
   "metadata": {},
   "outputs": [
    {
     "data": {
      "text/plain": [
       "['부정',\n",
       " '\"긍정\"',\n",
       " '\"긍정\"',\n",
       " '긍정',\n",
       " '긍정',\n",
       " '긍정',\n",
       " '긍정',\n",
       " '긍정',\n",
       " '부정',\n",
       " '긍정',\n",
       " '긍정',\n",
       " '긍정',\n",
       " '긍정',\n",
       " '긍정',\n",
       " '긍정',\n",
       " '부정',\n",
       " '\"긍정\"',\n",
       " '긍정',\n",
       " '긍정',\n",
       " '긍정',\n",
       " '긍정',\n",
       " '부정',\n",
       " '부정',\n",
       " '\"긍정\"',\n",
       " '긍정',\n",
       " '부정',\n",
       " '부정',\n",
       " '부정',\n",
       " '\"긍정\"',\n",
       " '부정',\n",
       " '긍정',\n",
       " '긍정',\n",
       " '부정',\n",
       " '긍정',\n",
       " '부정',\n",
       " '부정',\n",
       " '긍정',\n",
       " '긍정',\n",
       " '부정',\n",
       " '긍정',\n",
       " '\"긍정\"',\n",
       " '\"긍정\"',\n",
       " '긍정',\n",
       " '긍정',\n",
       " '\"긍정\"',\n",
       " '부정',\n",
       " '긍정',\n",
       " '부정',\n",
       " '\"긍정\"',\n",
       " '부정',\n",
       " '긍정',\n",
       " '긍정',\n",
       " '\"긍정\"',\n",
       " '부정',\n",
       " '부정',\n",
       " '부정',\n",
       " '긍정',\n",
       " '부정',\n",
       " '부정',\n",
       " '긍정',\n",
       " '긍정',\n",
       " '긍정',\n",
       " '\"긍정\"',\n",
       " '부정',\n",
       " '부정',\n",
       " '부정',\n",
       " '부정',\n",
       " '긍정',\n",
       " '긍정',\n",
       " '부정',\n",
       " '부정',\n",
       " '긍정',\n",
       " '부정',\n",
       " '부정',\n",
       " '부정',\n",
       " '부정',\n",
       " '부정',\n",
       " '부정',\n",
       " '부정',\n",
       " '부정',\n",
       " '\"긍정\"',\n",
       " '긍정',\n",
       " '부정',\n",
       " '부정',\n",
       " '부정',\n",
       " '부정',\n",
       " '부정',\n",
       " '긍정',\n",
       " '부정',\n",
       " '부정',\n",
       " '긍정',\n",
       " '긍정',\n",
       " '긍정',\n",
       " '부정',\n",
       " '부정',\n",
       " '부정',\n",
       " '부정',\n",
       " '긍정',\n",
       " '부정',\n",
       " '긍정']"
      ]
     },
     "execution_count": 38,
     "metadata": {},
     "output_type": "execute_result"
    }
   ],
   "source": [
    "temp = []\n",
    "for sentence in df_comment[\"댓글텍스트\"]:\n",
    "    pos_neg= chain.invoke({\"sentence\":sentence}).content\n",
    "    temp.append(pos_neg)\n",
    "temp"
   ]
  },
  {
   "cell_type": "code",
   "execution_count": 39,
   "metadata": {},
   "outputs": [],
   "source": [
    "import re\n",
    "temp_data = [re.sub(r'[\"]','',item) for item in temp]"
   ]
  },
  {
   "cell_type": "code",
   "execution_count": 50,
   "metadata": {},
   "outputs": [],
   "source": [
    "df_comment[\"긍부정\"] = temp_data"
   ]
  },
  {
   "cell_type": "code",
   "execution_count": 51,
   "metadata": {},
   "outputs": [],
   "source": [
    "df_comment[\"댓글텍스트\"] = df_comment[\"댓글텍스트\"].replace('\\n', '', regex=True)"
   ]
  },
  {
   "cell_type": "code",
   "execution_count": 52,
   "metadata": {},
   "outputs": [],
   "source": [
    "df_comment['좋아요 수'] = df_comment['좋아요 수'].fillna(0)\n"
   ]
  },
  {
   "cell_type": "code",
   "execution_count": 53,
   "metadata": {},
   "outputs": [
    {
     "data": {
      "text/html": [
       "<div>\n",
       "<style scoped>\n",
       "    .dataframe tbody tr th:only-of-type {\n",
       "        vertical-align: middle;\n",
       "    }\n",
       "\n",
       "    .dataframe tbody tr th {\n",
       "        vertical-align: top;\n",
       "    }\n",
       "\n",
       "    .dataframe thead th {\n",
       "        text-align: right;\n",
       "    }\n",
       "</style>\n",
       "<table border=\"1\" class=\"dataframe\">\n",
       "  <thead>\n",
       "    <tr style=\"text-align: right;\">\n",
       "      <th></th>\n",
       "      <th>Unnamed: 0</th>\n",
       "      <th>UserID</th>\n",
       "      <th>댓글텍스트</th>\n",
       "      <th>좋아요 수</th>\n",
       "      <th>video_ID</th>\n",
       "      <th>긍부정</th>\n",
       "    </tr>\n",
       "  </thead>\n",
       "  <tbody>\n",
       "    <tr>\n",
       "      <th>0</th>\n",
       "      <td>0</td>\n",
       "      <td>@kimsoonsoo6004</td>\n",
       "      <td>김하성의 영상엔 김하성이 한번도 등장하지 않는다.</td>\n",
       "      <td>328.0</td>\n",
       "      <td>0BWScn_OWPk</td>\n",
       "      <td>부정</td>\n",
       "    </tr>\n",
       "    <tr>\n",
       "      <th>1</th>\n",
       "      <td>1</td>\n",
       "      <td>@user-nt9zc3bk5d</td>\n",
       "      <td>김하성의 야구엔 무안타의 감동이있다</td>\n",
       "      <td>183.0</td>\n",
       "      <td>0BWScn_OWPk</td>\n",
       "      <td>긍정</td>\n",
       "    </tr>\n",
       "    <tr>\n",
       "      <th>2</th>\n",
       "      <td>2</td>\n",
       "      <td>@user-hw6tt8ke1n</td>\n",
       "      <td>썸넬 김하성이 끝내기홈런친줄..ㅡㅡ</td>\n",
       "      <td>98.0</td>\n",
       "      <td>0BWScn_OWPk</td>\n",
       "      <td>긍정</td>\n",
       "    </tr>\n",
       "    <tr>\n",
       "      <th>3</th>\n",
       "      <td>3</td>\n",
       "      <td>@user-vv8bw2sx5n</td>\n",
       "      <td>샌디에이고의 2경기 연속 끝내기 홈런에는 언제나 감동 감탄 환호 멋진 플레이가있다</td>\n",
       "      <td>10.0</td>\n",
       "      <td>0BWScn_OWPk</td>\n",
       "      <td>긍정</td>\n",
       "    </tr>\n",
       "    <tr>\n",
       "      <th>4</th>\n",
       "      <td>4</td>\n",
       "      <td>@user-jt4qk9sx5v</td>\n",
       "      <td>썸네일 제목 뽑은 거 보니 김하성 무안타 였나보군?</td>\n",
       "      <td>38.0</td>\n",
       "      <td>0BWScn_OWPk</td>\n",
       "      <td>긍정</td>\n",
       "    </tr>\n",
       "    <tr>\n",
       "      <th>...</th>\n",
       "      <td>...</td>\n",
       "      <td>...</td>\n",
       "      <td>...</td>\n",
       "      <td>...</td>\n",
       "      <td>...</td>\n",
       "      <td>...</td>\n",
       "    </tr>\n",
       "    <tr>\n",
       "      <th>95</th>\n",
       "      <td>95</td>\n",
       "      <td>@idx8722</td>\n",
       "      <td>영상 시작하자마지 댓글보고 영상 바로 닫는다.</td>\n",
       "      <td>0.0</td>\n",
       "      <td>0BWScn_OWPk</td>\n",
       "      <td>부정</td>\n",
       "    </tr>\n",
       "    <tr>\n",
       "      <th>96</th>\n",
       "      <td>96</td>\n",
       "      <td>@mandol_ee</td>\n",
       "      <td>FA를 까먹은 김하성,,</td>\n",
       "      <td>0.0</td>\n",
       "      <td>0BWScn_OWPk</td>\n",
       "      <td>부정</td>\n",
       "    </tr>\n",
       "    <tr>\n",
       "      <th>97</th>\n",
       "      <td>97</td>\n",
       "      <td>@user-kt5xu1sr3y</td>\n",
       "      <td>김하성이 친줄알았다</td>\n",
       "      <td>0.0</td>\n",
       "      <td>0BWScn_OWPk</td>\n",
       "      <td>긍정</td>\n",
       "    </tr>\n",
       "    <tr>\n",
       "      <th>98</th>\n",
       "      <td>98</td>\n",
       "      <td>@user-eg7fd1jr8k</td>\n",
       "      <td>샌디에이고의 김하성 아님?ㅋㅋㅋㅋㅋ김하성의 샌디에이고???</td>\n",
       "      <td>0.0</td>\n",
       "      <td>0BWScn_OWPk</td>\n",
       "      <td>부정</td>\n",
       "    </tr>\n",
       "    <tr>\n",
       "      <th>99</th>\n",
       "      <td>99</td>\n",
       "      <td>@undecimbre</td>\n",
       "      <td>물론 쉽진 않았지만, 조금만 정확했다면 타이밍 상으로는 잡을 수도 있었을 듯한 홈 ...</td>\n",
       "      <td>0.0</td>\n",
       "      <td>0BWScn_OWPk</td>\n",
       "      <td>긍정</td>\n",
       "    </tr>\n",
       "  </tbody>\n",
       "</table>\n",
       "<p>100 rows × 6 columns</p>\n",
       "</div>"
      ],
      "text/plain": [
       "    Unnamed: 0            UserID  \\\n",
       "0            0   @kimsoonsoo6004   \n",
       "1            1  @user-nt9zc3bk5d   \n",
       "2            2  @user-hw6tt8ke1n   \n",
       "3            3  @user-vv8bw2sx5n   \n",
       "4            4  @user-jt4qk9sx5v   \n",
       "..         ...               ...   \n",
       "95          95          @idx8722   \n",
       "96          96        @mandol_ee   \n",
       "97          97  @user-kt5xu1sr3y   \n",
       "98          98  @user-eg7fd1jr8k   \n",
       "99          99       @undecimbre   \n",
       "\n",
       "                                                댓글텍스트  좋아요 수     video_ID 긍부정  \n",
       "0                         김하성의 영상엔 김하성이 한번도 등장하지 않는다.  328.0  0BWScn_OWPk  부정  \n",
       "1                                 김하성의 야구엔 무안타의 감동이있다  183.0  0BWScn_OWPk  긍정  \n",
       "2                                 썸넬 김하성이 끝내기홈런친줄..ㅡㅡ   98.0  0BWScn_OWPk  긍정  \n",
       "3       샌디에이고의 2경기 연속 끝내기 홈런에는 언제나 감동 감탄 환호 멋진 플레이가있다   10.0  0BWScn_OWPk  긍정  \n",
       "4                        썸네일 제목 뽑은 거 보니 김하성 무안타 였나보군?   38.0  0BWScn_OWPk  긍정  \n",
       "..                                                ...    ...          ...  ..  \n",
       "95                          영상 시작하자마지 댓글보고 영상 바로 닫는다.    0.0  0BWScn_OWPk  부정  \n",
       "96                                      FA를 까먹은 김하성,,    0.0  0BWScn_OWPk  부정  \n",
       "97                                         김하성이 친줄알았다    0.0  0BWScn_OWPk  긍정  \n",
       "98                   샌디에이고의 김하성 아님?ㅋㅋㅋㅋㅋ김하성의 샌디에이고???    0.0  0BWScn_OWPk  부정  \n",
       "99  물론 쉽진 않았지만, 조금만 정확했다면 타이밍 상으로는 잡을 수도 있었을 듯한 홈 ...    0.0  0BWScn_OWPk  긍정  \n",
       "\n",
       "[100 rows x 6 columns]"
      ]
     },
     "execution_count": 53,
     "metadata": {},
     "output_type": "execute_result"
    }
   ],
   "source": [
    "df_comment"
   ]
  }
 ],
 "metadata": {
  "kernelspec": {
   "display_name": "study",
   "language": "python",
   "name": "python3"
  },
  "language_info": {
   "codemirror_mode": {
    "name": "ipython",
    "version": 3
   },
   "file_extension": ".py",
   "mimetype": "text/x-python",
   "name": "python",
   "nbconvert_exporter": "python",
   "pygments_lexer": "ipython3",
   "version": "3.11.9"
  }
 },
 "nbformat": 4,
 "nbformat_minor": 2
}
