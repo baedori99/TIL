{
 "cells": [
  {
   "cell_type": "markdown",
   "metadata": {},
   "source": [
    "# NumPy"
   ]
  },
  {
   "cell_type": "markdown",
   "metadata": {},
   "source": [
    "### 1.1 NumPy 특징"
   ]
  },
  {
   "cell_type": "markdown",
   "metadata": {},
   "source": [
    "- 과학 계산을 위한 라이브러리\n",
    "- 행렬/배열 처리 및 연산\n",
    "- 난수 생성 (Random Number)"
   ]
  },
  {
   "cell_type": "markdown",
   "metadata": {},
   "source": [
    "### 1.2 배열의 생성"
   ]
  },
  {
   "cell_type": "markdown",
   "metadata": {},
   "source": [
    "#### 1. 리스트에서 행렬/배열 생성"
   ]
  },
  {
   "cell_type": "code",
   "execution_count": 44,
   "metadata": {},
   "outputs": [
    {
     "name": "stdout",
     "output_type": "stream",
     "text": [
      "[[1 2 3]\n",
      " [4 5 6]]\n"
     ]
    }
   ],
   "source": [
    "import numpy as np # numpy 패키지 로드하여 np로 사용\n",
    "a = [[1,2,3], [4,5,6]] # 리스트에서 행렬생성\n",
    "b = np.array(a)\n",
    "print(b)"
   ]
  },
  {
   "cell_type": "code",
   "execution_count": 45,
   "metadata": {},
   "outputs": [
    {
     "name": "stdout",
     "output_type": "stream",
     "text": [
      "2\n"
     ]
    }
   ],
   "source": [
    "print(b.ndim) # 배열의 열수(차원)"
   ]
  },
  {
   "cell_type": "code",
   "execution_count": 46,
   "metadata": {},
   "outputs": [
    {
     "name": "stdout",
     "output_type": "stream",
     "text": [
      "(2, 3)\n"
     ]
    }
   ],
   "source": [
    "print(b.shape) # 배열의 차원 2 x 3의 NumPy 2차원 배열"
   ]
  },
  {
   "cell_type": "code",
   "execution_count": 47,
   "metadata": {},
   "outputs": [
    {
     "name": "stdout",
     "output_type": "stream",
     "text": [
      "1\n"
     ]
    }
   ],
   "source": [
    "print(b[0,0]) # 배열의 원소 접근"
   ]
  },
  {
   "cell_type": "markdown",
   "metadata": {},
   "source": [
    "#### 2. 특수한 배열의 생성"
   ]
  },
  {
   "cell_type": "code",
   "execution_count": 48,
   "metadata": {},
   "outputs": [
    {
     "name": "stdout",
     "output_type": "stream",
     "text": [
      "[0 1 2 3 4 5 6 7 8 9]\n"
     ]
    }
   ],
   "source": [
    "print(np.arange(10)) # 1씩 증가하는 1차원 배열(시작이 0부터)"
   ]
  },
  {
   "cell_type": "code",
   "execution_count": 49,
   "metadata": {},
   "outputs": [
    {
     "name": "stdout",
     "output_type": "stream",
     "text": [
      "[5 6 7 8 9]\n"
     ]
    }
   ],
   "source": [
    "print(np.arange(5,10)) # 1씩 증가하는 1차원 배열(시작이 5부터)"
   ]
  },
  {
   "cell_type": "code",
   "execution_count": 50,
   "metadata": {},
   "outputs": [
    {
     "name": "stdout",
     "output_type": "stream",
     "text": [
      "[[0. 0.]\n",
      " [0. 0.]]\n"
     ]
    }
   ],
   "source": [
    "print(np.zeros((2,2))) # 2 x 2 영 배열 생성"
   ]
  },
  {
   "cell_type": "code",
   "execution_count": 51,
   "metadata": {},
   "outputs": [
    {
     "name": "stdout",
     "output_type": "stream",
     "text": [
      "[[1. 1. 1.]\n",
      " [1. 1. 1.]]\n"
     ]
    }
   ],
   "source": [
    "print(np.ones((2,3))) # 2 x 3 유닛행렬"
   ]
  },
  {
   "cell_type": "code",
   "execution_count": 52,
   "metadata": {},
   "outputs": [
    {
     "name": "stdout",
     "output_type": "stream",
     "text": [
      "[[5 5 5]\n",
      " [5 5 5]]\n"
     ]
    }
   ],
   "source": [
    "print(np.full((2,3), 5)) # 모든 원소가 5인 2 x 3 행렬"
   ]
  },
  {
   "cell_type": "code",
   "execution_count": 53,
   "metadata": {},
   "outputs": [
    {
     "name": "stdout",
     "output_type": "stream",
     "text": [
      "[[1. 0. 0.]\n",
      " [0. 1. 0.]\n",
      " [0. 0. 1.]]\n"
     ]
    }
   ],
   "source": [
    "print(np.eye(3)) # 단위 행렬 (주대각선의 원소가 모두 1이며 나머지 원소는 모두 0인 정사각 행렬)"
   ]
  },
  {
   "cell_type": "markdown",
   "metadata": {},
   "source": [
    "#### 3. 배열의 차원 변환"
   ]
  },
  {
   "cell_type": "code",
   "execution_count": 54,
   "metadata": {},
   "outputs": [
    {
     "name": "stdout",
     "output_type": "stream",
     "text": [
      "[ 0  1  2  3  4  5  6  7  8  9 10 11 12 13 14 15 16 17 18 19]\n"
     ]
    }
   ],
   "source": [
    "a = np.arange(20) # 1씩 증가하는..\n",
    "print(a)"
   ]
  },
  {
   "cell_type": "code",
   "execution_count": 55,
   "metadata": {},
   "outputs": [
    {
     "name": "stdout",
     "output_type": "stream",
     "text": [
      "[[ 0  1  2  3  4]\n",
      " [ 5  6  7  8  9]\n",
      " [10 11 12 13 14]\n",
      " [15 16 17 18 19]]\n"
     ]
    }
   ],
   "source": [
    "# b = np.reshape(a,(4,5)) # 같음\n",
    "b = a.reshape((4,5))\n",
    "print(b)"
   ]
  },
  {
   "cell_type": "markdown",
   "metadata": {},
   "source": [
    "### 1.3 Numpy 슬라이싱/ 인덱싱"
   ]
  },
  {
   "cell_type": "code",
   "execution_count": 56,
   "metadata": {},
   "outputs": [
    {
     "name": "stdout",
     "output_type": "stream",
     "text": [
      "[[1 2]\n",
      " [4 5]\n",
      " [7 8]]\n"
     ]
    }
   ],
   "source": [
    "import numpy as np\n",
    "lst = [\n",
    "    [1,2,3],\n",
    "    [4,5,6],\n",
    "    [7,8,9]\n",
    "]\n",
    "arr = np.array(lst) # 배열 생성\n",
    "# a = arr[0:2, 0:2] # 2 x 2 배열로 슬라이싱\n",
    "# print(a)\n",
    "a = arr[0:3, 0:2] # 3 x 2 배열로 슬라이싱\n",
    "print(a)"
   ]
  },
  {
   "cell_type": "code",
   "execution_count": 57,
   "metadata": {},
   "outputs": [
    {
     "name": "stdout",
     "output_type": "stream",
     "text": [
      "[[5 6]\n",
      " [8 9]]\n"
     ]
    }
   ],
   "source": [
    "a = arr[1:, 1:]\n",
    "print(a)"
   ]
  },
  {
   "cell_type": "code",
   "execution_count": 58,
   "metadata": {},
   "outputs": [
    {
     "name": "stdout",
     "output_type": "stream",
     "text": [
      "[[2 3]\n",
      " [5 6]]\n"
     ]
    }
   ],
   "source": [
    "a = arr[:2, 1:]\n",
    "print(a)"
   ]
  },
  {
   "cell_type": "code",
   "execution_count": 59,
   "metadata": {},
   "outputs": [
    {
     "name": "stdout",
     "output_type": "stream",
     "text": [
      "[[7 8 9]]\n"
     ]
    }
   ],
   "source": [
    "# a = arr[2]\n",
    "# a = arr[2, :]\n",
    "a = arr[2:, :] # 1 x 3 행렬\n",
    "print(a)"
   ]
  },
  {
   "cell_type": "code",
   "execution_count": 60,
   "metadata": {},
   "outputs": [
    {
     "name": "stdout",
     "output_type": "stream",
     "text": [
      "[[1 2]\n",
      " [4 5]\n",
      " [7 8]]\n"
     ]
    }
   ],
   "source": [
    "a = arr[:, :2]\n",
    "print(a)"
   ]
  },
  {
   "cell_type": "code",
   "execution_count": 61,
   "metadata": {},
   "outputs": [
    {
     "name": "stdout",
     "output_type": "stream",
     "text": [
      "[[4 5]]\n"
     ]
    }
   ],
   "source": [
    "# a = arr[1:, :2]\n",
    "a = arr[1:2, :2] # 1 x 2 행렬\n",
    "print(a)"
   ]
  },
  {
   "cell_type": "markdown",
   "metadata": {},
   "source": [
    "### 1.4 Numpy 연산"
   ]
  },
  {
   "cell_type": "markdown",
   "metadata": {},
   "source": [
    "- 배열간 연산 가능\n",
    "- +, -, *, / 등의 연산자 사용가능\n",
    "- add(), substract(), multiply(), divide()"
   ]
  },
  {
   "cell_type": "code",
   "execution_count": 62,
   "metadata": {},
   "outputs": [
    {
     "name": "stdout",
     "output_type": "stream",
     "text": [
      "[5 7 9]\n",
      "[ 4 10 18]\n",
      "[0.25 0.4  0.5 ]\n"
     ]
    }
   ],
   "source": [
    "import numpy as np\n",
    "\n",
    "a = np.array([1,2,3])\n",
    "b = np.array([4,5,6])\n",
    "\n",
    "# 각 요소 더하기\n",
    "c = a + b\n",
    "\n",
    "# c = np.add(a,b)\n",
    "print(c) # [5, 7, 9]\n",
    "\n",
    "# 각 요소 곱하기\n",
    "# c = a * b\n",
    "\n",
    "c = np.multiply(a,b)\n",
    "print(c) #[4, 10, 18]\n",
    "\n",
    "# 각 요소 나누기\n",
    "# c = a / b\n",
    "\n",
    "c = np.divide(a,b)\n",
    "print(c) #[0.25, 0.4, 0.5]"
   ]
  },
  {
   "cell_type": "markdown",
   "metadata": {},
   "source": [
    "- dot() 함수: 행렬의 곱"
   ]
  },
  {
   "cell_type": "code",
   "execution_count": 63,
   "metadata": {},
   "outputs": [
    {
     "name": "stdout",
     "output_type": "stream",
     "text": [
      "[[19 22]\n",
      " [43 50]]\n"
     ]
    }
   ],
   "source": [
    "import numpy as np\n",
    "\n",
    "arr1 = [[1,2], [3,4]]\n",
    "arr2 = [[5,6], [7,8]]\n",
    "a = np.array(arr1)\n",
    "b = np.array(arr2)\n",
    "\n",
    "c = np.dot(a,b)\n",
    "print(c)"
   ]
  },
  {
   "cell_type": "markdown",
   "metadata": {},
   "source": [
    "- 모든 원소의 합: sum()\n",
    "- 모든 원소의 곱: prod()"
   ]
  },
  {
   "cell_type": "code",
   "execution_count": 64,
   "metadata": {},
   "outputs": [
    {
     "name": "stdout",
     "output_type": "stream",
     "text": [
      "sum = 19\n"
     ]
    }
   ],
   "source": [
    "import numpy as np\n",
    "\n",
    "a = np.array([[-1,2,3],[3,4,8]])\n",
    "s = np.sum(a)\n",
    "print('sum =',a.sum())"
   ]
  },
  {
   "cell_type": "code",
   "execution_count": 65,
   "metadata": {},
   "outputs": [
    {
     "name": "stdout",
     "output_type": "stream",
     "text": [
      "sum by row =  [ 2  6 11]\n"
     ]
    }
   ],
   "source": [
    "# 행렬/열별 연산 (axis=0/1)\n",
    "print('sum by row = ', a.sum(axis = 0))"
   ]
  },
  {
   "cell_type": "code",
   "execution_count": 66,
   "metadata": {},
   "outputs": [
    {
     "name": "stdout",
     "output_type": "stream",
     "text": [
      "mean= 3.1666666666666665\n"
     ]
    }
   ],
   "source": [
    "print('mean=',a.mean())"
   ]
  },
  {
   "cell_type": "code",
   "execution_count": 67,
   "metadata": {},
   "outputs": [
    {
     "name": "stdout",
     "output_type": "stream",
     "text": [
      "sd= 2.6718699236469\n"
     ]
    }
   ],
   "source": [
    "print('sd=',a.std()) # Standard Deviation 표준편차"
   ]
  },
  {
   "cell_type": "code",
   "execution_count": 68,
   "metadata": {},
   "outputs": [
    {
     "name": "stdout",
     "output_type": "stream",
     "text": [
      "product= -576\n"
     ]
    }
   ],
   "source": [
    "print('product=', a.prod()) # axis product a = [[-1,2,3],[3,4,8]] => -1*2*3*3*4*8"
   ]
  },
  {
   "cell_type": "markdown",
   "metadata": {},
   "source": [
    "### 1.5 기본 수학함수"
   ]
  },
  {
   "cell_type": "markdown",
   "metadata": {},
   "source": [
    "#### Function\n",
    "- abs, fabs         : Absolute value element-wise for integer, floating-point, or complex values\n",
    "- sqrt              : square root of each element (equivalent to arr ** 0.5)\n",
    "- square            : square of each element (equivalent to arr ** 2)\n",
    "- exp               : exponent e^x of each element\n",
    "- log, log10        : Natural logarithm (base e), log base 10, log base 2, and log(1+ x ), respectively\n",
    "- log2, log1p\n",
    "- sign              : sign of each element: 1 (positive), 0 (zero), or -1 (negative)\n",
    "- ceil              : ceiling of each element(i.e., 주어진 수보다 크거나 같은 최소 정수)\n",
    "- floor             : floor of each element(i.e., 작거나 같은 최대정수)\n",
    "- rint              : round (반올림)\n",
    "- isnan             : NaN (Not a Number) 체크, [True|False]\n",
    "- isfinite, isinf   : Check infinite (유한/ 무한 체크)\n",
    "- cos, cosh, sin,   : Trigonometric functions (삼각함수)\n",
    "- sinh, tan, tanh\n",
    "- arccos, arccosh\n",
    "- arcsin, arcsinh\n",
    "- arctan, arctanh"
   ]
  },
  {
   "cell_type": "markdown",
   "metadata": {},
   "source": [
    "### 1.6 선형대수(벡터.행렬연산) 함수 (Linear Algebra Function)"
   ]
  },
  {
   "cell_type": "markdown",
   "metadata": {},
   "source": [
    "#### Function\n",
    "\n",
    "- diag      : diagonal elements of a square matrix as a 1D array, or\n",
    "              convert a 1D array into a square matrix with zeros on the off-diagonal (대각 성분 추출)\n",
    "- dot       : Matrix multiplication\n",
    "- trace     : sum of the diagonal elements\n",
    "- det       : matrix determinant\n",
    "- eig       : eigenvalues and eigenvectors of a square matrix (고유값, 고유벡터)\n",
    "- inv       : inverse of a square matrix\n",
    "- pinv      : Moore-Penrose pseudo-inverse of a matrix\n",
    "- qr        : QR decomposition (QR분해 - 실수 행렬을 직교 행렬과 상삼각 행렬의 곱으로 나타내는 행렬 분해)\n",
    "- svd       : singular value decomposition (특이값분해 - 행렬을 대각화하는 방법 / 모든 m x n행렬에 대해 적용 가능)\n",
    "- solve     : Ax = b for x, where A is a matrix\n",
    "- lstsq      : least-squares solution to Ax = b"
   ]
  },
  {
   "cell_type": "markdown",
   "metadata": {},
   "source": [
    "#### 1. 벡터연산(내적)\n",
    "x = (a1,a2,a3), y = (b1,b2,b3) x'y = a1*b1 + a2*b2 + a3*b3 = ?"
   ]
  },
  {
   "cell_type": "code",
   "execution_count": 69,
   "metadata": {},
   "outputs": [
    {
     "name": "stdout",
     "output_type": "stream",
     "text": [
      "[1 2 3]\n"
     ]
    }
   ],
   "source": [
    "import numpy as np\n",
    "\n",
    "x = np.array([1,2,3])\n",
    "print(x)"
   ]
  },
  {
   "cell_type": "code",
   "execution_count": 70,
   "metadata": {},
   "outputs": [
    {
     "name": "stdout",
     "output_type": "stream",
     "text": [
      "[ 6 23 -1]\n"
     ]
    }
   ],
   "source": [
    "y = np.array([6,23,-1])\n",
    "print(y)"
   ]
  },
  {
   "cell_type": "code",
   "execution_count": 71,
   "metadata": {},
   "outputs": [
    {
     "name": "stdout",
     "output_type": "stream",
     "text": [
      "49\n"
     ]
    }
   ],
   "source": [
    "print(x.dot(y.T)) # x'y | T - 전치하는 메소드"
   ]
  },
  {
   "cell_type": "code",
   "execution_count": 72,
   "metadata": {},
   "outputs": [
    {
     "name": "stdout",
     "output_type": "stream",
     "text": [
      "49\n"
     ]
    }
   ],
   "source": [
    "print(x.T.dot(y)) # x'y"
   ]
  },
  {
   "cell_type": "markdown",
   "metadata": {},
   "source": [
    "#### 2.\n",
    "X = [[1,2,3],[4,5,6]], \n",
    "Y = [[6,23],[-1,7], [8,9]]"
   ]
  },
  {
   "cell_type": "code",
   "execution_count": 73,
   "metadata": {},
   "outputs": [
    {
     "name": "stdout",
     "output_type": "stream",
     "text": [
      "[[1. 2. 3.]\n",
      " [4. 5. 6.]]\n"
     ]
    }
   ],
   "source": [
    "import numpy as np\n",
    "\n",
    "x = np.array([[1.,2.,3.],[4.,5.,6.]])\n",
    "y = np.array([[6.,23.], [-1, 7],[8,9]])\n",
    "\n",
    "print(x)"
   ]
  },
  {
   "cell_type": "code",
   "execution_count": 74,
   "metadata": {},
   "outputs": [
    {
     "name": "stdout",
     "output_type": "stream",
     "text": [
      "[[ 6. 23.]\n",
      " [-1.  7.]\n",
      " [ 8.  9.]]\n"
     ]
    }
   ],
   "source": [
    "print(y)"
   ]
  },
  {
   "cell_type": "code",
   "execution_count": 75,
   "metadata": {},
   "outputs": [
    {
     "name": "stdout",
     "output_type": "stream",
     "text": [
      "[[ 28.  64.]\n",
      " [ 67. 181.]]\n"
     ]
    }
   ],
   "source": [
    "print(x.dot(y)) # xy"
   ]
  },
  {
   "cell_type": "code",
   "execution_count": 76,
   "metadata": {},
   "outputs": [
    {
     "name": "stdout",
     "output_type": "stream",
     "text": [
      "[[ 98. 127. 156.]\n",
      " [ 27.  33.  39.]\n",
      " [ 44.  61.  78.]]\n"
     ]
    }
   ],
   "source": [
    "print(y.dot(x)) # yx"
   ]
  },
  {
   "cell_type": "markdown",
   "metadata": {},
   "source": [
    "#### 3. 역행렬"
   ]
  },
  {
   "cell_type": "code",
   "execution_count": 77,
   "metadata": {},
   "outputs": [
    {
     "name": "stdout",
     "output_type": "stream",
     "text": [
      "[[1 2 3]\n",
      " [1 0 0]\n",
      " [0 0 1]]\n"
     ]
    }
   ],
   "source": [
    "import numpy as np\n",
    "from numpy.linalg import inv  \n",
    "np.random.seed()\n",
    "X = np.array([[1,2,3],[1,0,0],[0,0,1]])\n",
    "print(X)"
   ]
  },
  {
   "cell_type": "code",
   "execution_count": 78,
   "metadata": {},
   "outputs": [
    {
     "name": "stdout",
     "output_type": "stream",
     "text": [
      "[[ 0.   1.   0. ]\n",
      " [ 0.5 -0.5 -1.5]\n",
      " [ 0.   0.   1. ]]\n"
     ]
    }
   ],
   "source": [
    "Y = inv(X)\n",
    "print(Y)"
   ]
  },
  {
   "cell_type": "code",
   "execution_count": 79,
   "metadata": {},
   "outputs": [
    {
     "data": {
      "text/plain": [
       "array([[1., 0., 0.],\n",
       "       [0., 1., 0.],\n",
       "       [0., 0., 1.]])"
      ]
     },
     "execution_count": 79,
     "metadata": {},
     "output_type": "execute_result"
    }
   ],
   "source": [
    "X.dot(Y)"
   ]
  },
  {
   "cell_type": "markdown",
   "metadata": {},
   "source": [
    "### 1.7 난수(Random Number)의 생성"
   ]
  },
  {
   "cell_type": "markdown",
   "metadata": {},
   "source": [
    "#### Function\n",
    "\n",
    "- beta(a,b[, size])                 : Beta distribution (베타분포 - 두 매개변수 alpha와 beta에 따라 [0,1] 구간에서 정의되는 연속 확률 분포들의 가족)\n",
    "- binomial(n, p[, size])            : binomial distribution (이항분포)\n",
    "- chisquare(df[, size])             : chi-square distribution (카이제곱분포 - k개의 서로 독립적인 표준 정규 확률변수를 각각 제곱한 다음 합해서 얻어지는 분포)\n",
    "- exponential[scale, size]          : exponential distribution (지수분포)\n",
    "- f(dfnum, dfden[, size])           : F distribution (연속 확률 분포)\n",
    "- gamma(shape[, scale, size])       : Gamma distribution (연속 확률 분포, 두개의 매개변수를 받으며 양의 실수를 가질 수 있다.)\n",
    "- geometric(p[, size])              : geometric distribution (기하 분포)\n",
    "- hypergeometric(ngood, nbad,       : Hypergeometric distribution (초기하 분포 - 비복원추출에서 N개 중에 n번 추출했을 때 원하는 것 k개가 뽑힐 확률의 분포)\n",
    "  nsample[, size])\n",
    "- multinomial(n, pvals[, size])     : multinomial distribution (다항 분포)\n",
    "- negative_binomial(n, p[, size])   : negative binomial distribution (음이항 분포)\n",
    "- normal([loc, scale, size])        : normal (Gaussian) distribution (정규 분포)\n",
    "- poisson([lam, size])              : Poisson distribution (푸아송 분포 - 단위 시간 안에 어떤 사건이 몇번 발생할 것인지를 표현하는 이산 확률 분포)"
   ]
  },
  {
   "cell_type": "markdown",
   "metadata": {},
   "source": [
    "#### 1. 균등분포에서 난수생성"
   ]
  },
  {
   "cell_type": "code",
   "execution_count": 80,
   "metadata": {},
   "outputs": [
    {
     "data": {
      "text/plain": [
       "array([[0.38039828, 0.86691193, 0.60887254, 0.37606094, 0.56532581],\n",
       "       [0.51654359, 0.08677961, 0.29465994, 0.67677348, 0.75176234],\n",
       "       [0.66200462, 0.50222331, 0.40496844, 0.37920089, 0.46250581],\n",
       "       [0.40866539, 0.37101067, 0.77652134, 0.70836575, 0.68755891],\n",
       "       [0.63739211, 0.03293206, 0.41996017, 0.88053717, 0.1143465 ],\n",
       "       [0.57116412, 0.01099196, 0.36587842, 0.91947613, 0.75832071],\n",
       "       [0.73815898, 0.57487042, 0.89490878, 0.29032547, 0.3638508 ],\n",
       "       [0.62626892, 0.77373578, 0.68003344, 0.29914093, 0.58624809],\n",
       "       [0.27826961, 0.88984416, 0.46663377, 0.25710625, 0.76198471],\n",
       "       [0.75085349, 0.44582935, 0.60408419, 0.104527  , 0.35318017],\n",
       "       [0.85949842, 0.2362887 , 0.32099801, 0.045144  , 0.4819047 ],\n",
       "       [0.54085151, 0.82154675, 0.08308017, 0.79312177, 0.2816181 ],\n",
       "       [0.77161564, 0.38383814, 0.26921195, 0.1944851 , 0.74680831],\n",
       "       [0.77093828, 0.38897906, 0.79699448, 0.43646043, 0.8779652 ],\n",
       "       [0.05669082, 0.46947988, 0.9563501 , 0.95216754, 0.36732011],\n",
       "       [0.98159819, 0.26953217, 0.28942149, 0.54868484, 0.18489458],\n",
       "       [0.70292321, 0.5814934 , 0.73627959, 0.01797912, 0.45438105],\n",
       "       [0.19667041, 0.94821366, 0.81094898, 0.24172283, 0.2444411 ],\n",
       "       [0.24894755, 0.77139963, 0.25957267, 0.69876628, 0.06940461],\n",
       "       [0.33026598, 0.72499113, 0.54912902, 0.80626098, 0.92113481]])"
      ]
     },
     "execution_count": 80,
     "metadata": {},
     "output_type": "execute_result"
    }
   ],
   "source": [
    "x = np.random.uniform(size = 100)\n",
    "x.reshape(20,5)"
   ]
  },
  {
   "cell_type": "markdown",
   "metadata": {},
   "source": [
    "#### 2. 정규분포"
   ]
  },
  {
   "cell_type": "code",
   "execution_count": 81,
   "metadata": {},
   "outputs": [
    {
     "data": {
      "text/plain": [
       "(array([  3.,  23.,  49., 131., 209., 244., 199.,  90.,  37.,  15.]),\n",
       " array([-3.30818858, -2.69284001, -2.07749145, -1.46214289, -0.84679432,\n",
       "        -0.23144576,  0.3839028 ,  0.99925137,  1.61459993,  2.22994849,\n",
       "         2.84529706]),\n",
       " <BarContainer object of 10 artists>)"
      ]
     },
     "execution_count": 81,
     "metadata": {},
     "output_type": "execute_result"
    },
    {
     "data": {
      "image/png": "[encoded data removed]",
      "text/plain": [
       "<Figure size 640x480 with 1 Axes>"
      ]
     },
     "metadata": {},
     "output_type": "display_data"
    }
   ],
   "source": [
    "s = np.random.normal(0, 1, 1000)\n",
    "\n",
    "import matplotlib.pyplot as plt\n",
    "plt.hist(s)"
   ]
  },
  {
   "cell_type": "code",
   "execution_count": 82,
   "metadata": {},
   "outputs": [],
   "source": [
    "plt.show()"
   ]
  }
 ],
 "metadata": {
  "kernelspec": {
   "display_name": "study",
   "language": "python",
   "name": "python3"
  },
  "language_info": {
   "codemirror_mode": {
    "name": "ipython",
    "version": 3
   },
   "file_extension": ".py",
   "mimetype": "text/x-python",
   "name": "python",
   "nbconvert_exporter": "python",
   "pygments_lexer": "ipython3",
   "version": "3.11.9"
  }
 },
 "nbformat": 4,
 "nbformat_minor": 2
}
