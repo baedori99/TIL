{
 "cells": [
  {
   "cell_type": "markdown",
   "metadata": {},
   "source": [
    "### urllib.request\n",
    "- 다양한 방식으로 URL을 열고 데이터를 가져오는 기능을 제공"
   ]
  },
  {
   "cell_type": "markdown",
   "metadata": {},
   "source": [
    "#### 2.1 urlopen()\n",
    "- urlopen() 함수는 **URL을 열어서 HTTPResponse 객체를 반환하는 함수**\n",
    "- 이 함수는 HTTP, HTTPS, FTP 등의 프로토콜을 지원합니다.\n",
    "- urlopen() 함수는 하나의 인자를 받습니다. 이 인자는 열고자 하는 URL을 나타내는 문자열입니다. \n",
    "- urlopen() 함수를 호출하면 URL을 열어서 HTTPResponse 객체를 반환합니다. 이 객체는 read() 메서드를 사용하여 응답 본문을 가져올 수 있습니다.\n"
   ]
  },
  {
   "cell_type": "code",
   "execution_count": null,
   "metadata": {},
   "outputs": [],
   "source": [
    "import urllib"
   ]
  },
  {
   "cell_type": "code",
   "execution_count": null,
   "metadata": {},
   "outputs": [],
   "source": [
    "import urllib.request\n",
    "\n",
    "response = urllib.request.urlopen('https://www.example.com')\n",
    "html = response.read()\n",
    "\n",
    "print(html)"
   ]
  },
  {
   "cell_type": "markdown",
   "metadata": {},
   "source": [
    "#### 2.3 Request\n",
    "\n",
    "- Request는 urllib.request 모듈에 포함된 클래스 중 하나입니다. 이 클래스는 **HTTP 요청을 만들기 위한 클래스로, 헤더 정보, 쿠키 정보 등을 설정**할 수 있습니다. \n",
    "- HTTP 요청을 보낼 때 사용되는 GET, POST, PUT, DELETE 등의 메서드를 설정할 수 있습니다.\n",
    "- Request는 두 개의 인자를 받습니다. 첫 번째 인자는 URL을 나타내는 문자열입니다. 두 번째 인자는 옵션을 나타내는 딕셔너리입니다.\n",
    "- 딕셔너리의 키는 헤더 정보를 나타내는 문자열이며, 값은 해당 헤더 정보의 값입니다."
   ]
  },
  {
   "cell_type": "code",
   "execution_count": null,
   "metadata": {},
   "outputs": [],
   "source": [
    "import urllib.request\n",
    "import urllib.parse\n",
    "\n",
    "# 검색어인 'python'을 'data'딕셔너리에 할당. 여기서 'q':'python'은 검색어 파라미터를 나타냄\n",
    "url = 'https://www.example.com/search'\n",
    "# urlencode를 사용하여 data 딕셔너리를 URL 인코딩된 문자열로 반환.이 경우 변환된 문자열은 \n",
    "# 'q=python'이 됩니다.\n",
    "data = {'q' : 'python'}\n",
    "\n",
    "data = urllib.parse.urlencode(data)\n",
    "# 변환된 문자열을 URL 끝에 붙여 완성된 URL을 생성\n",
    "url = url + '?' + data\n",
    "\n",
    "# 여기서 User-Agent는 웹 브라우저의 종류를 나타내고 Referer는 요청이 시작된 웹페이지의 URL을 나타냄\n",
    "headers = {\n",
    "    'User=Agent': 'Mozilla/5.0 (Windows NT 10.0; Win64; x64)',\n",
    "    'Referer' : 'https://www.example.com'\n",
    "}\n",
    "\n",
    "req = urllib.request.Request(url, headers=headers)\n",
    "response = urllib.request.urlopen(req)\n",
    "\n",
    "html = response.read()\n",
    "print(html)"
   ]
  },
  {
   "cell_type": "markdown",
   "metadata": {},
   "source": [
    "### 4. urllib.parse\n",
    "\n",
    "- urllib.parse 모듈은 **URL을 구성 요소로 분리**하고, **URL을 인코딩하고 디코딩**하며, URL 쿼리 문자열을 **구문 분석**하는 등의 기능을 제공합니다."
   ]
  },
  {
   "cell_type": "markdown",
   "metadata": {},
   "source": [
    "#### 4.2 urlencode()\n",
    "\n",
    "- urlencode() 함수는 딕셔너리를 URL 쿼리 문자열로 인코딩하기 위해 사용됩니다.\n",
    "- 이 함수는 **딕셔너리의 키-값 쌍을 인코딩하여 URL 쿼리 문자열을 생성**합니다.\n",
    "- urlencode() 함수는 주로 웹 애플리케이션에서 GET 요청의 쿼리 문자열을 생성하는 데 사용됩니다."
   ]
  },
  {
   "cell_type": "code",
   "execution_count": null,
   "metadata": {},
   "outputs": [],
   "source": [
    "from urllib.parse import urlencode\n",
    "\n",
    "params = {'name': 'Alice', 'age': 25, 'city': 'New York'}\n",
    "\n",
    "query_string = urlencode(params)\n",
    "\n",
    "url = 'https://www.example.com/search?' + query_string\n",
    "\n",
    "print(url)"
   ]
  },
  {
   "cell_type": "markdown",
   "metadata": {},
   "source": [
    "#### 4.4 quote()\n",
    "\n",
    "- quote() 함수는 URL 안전 문자열(**문자열이 변환되지 않고 그대로 사용되는 문자열**/ URL에 사용할 수 있는 문자)로 인코딩하기 위해 사용됩니다.\n",
    "- 이 함수는 문자열의 특정 문자를 URL 안전 문자열로 인코딩하여 반환합니다. 인코딩된 문자열은 URL의 일부로 사용될 수 있습니다.\n",
    "- quote() 함수는 대부분의 ASCII 문자를 인코딩하지 않고, 일부 특수 문자만 인코딩합니다.\n",
    "- 이 함수는 주로 URL에 포함될 수 없는 문자를 처리하는 데 사용됩니다."
   ]
  },
  {
   "cell_type": "code",
   "execution_count": null,
   "metadata": {},
   "outputs": [],
   "source": [
    "from urllib.parse import quote\n",
    "\n",
    "url = 'https://www.example.com/search?q=' + quote('Alice & Bob')\n",
    "\n",
    "print(url)"
   ]
  },
  {
   "cell_type": "markdown",
   "metadata": {},
   "source": [
    "#### 4.5 unquote()\n",
    "\n",
    "- unquote() 함수는 URL 안전 문자열을 디코딩하기 위해 사용됩니다.\n",
    "- 이 함수는 URL 안전 문자열로 인코딩된 문자열을 디코딩하여 반환합니다.\n",
    "- unquote() 함수는 quote() 함수와 반대로 동작합니다."
   ]
  },
  {
   "cell_type": "code",
   "execution_count": null,
   "metadata": {},
   "outputs": [],
   "source": [
    "from urllib.parse import unquote\n",
    "\n",
    "url = 'https://www.example.com/search?q=Alice%20%26%20Bob'\n",
    "\n",
    "query_string = url.split('?')[1]\n",
    "\n",
    "params = {}\n",
    "\n",
    "for param in query_string.split('&'):\n",
    "\tkey, value = param.split('=')\n",
    "\tparams[key] = unquote(value)\n",
    "\n",
    "print(params['q'])"
   ]
  },
  {
   "cell_type": "markdown",
   "metadata": {},
   "source": [
    "### API를 통해 받은 JSON파일들\n",
    "- API를 이용해 Python으로 받은 웹사이트 주소들은 JSON파일로 오게 되는데\n",
    "- 이 JSON파일들은 모두 string형식으로 나타나지게 된다.\n",
    "- 하지만 string형식으로는 parshing이 안되기 때문에 json으로 바꿔줘야한다.\n",
    "- 이 string형식으로 나타내지는 것들을 바꾸기 위해서는\n"
   ]
  },
  {
   "cell_type": "code",
   "execution_count": null,
   "metadata": {},
   "outputs": [],
   "source": [
    "import json\n",
    "\n",
    "# 받은 json구문들을 text로 칭하고\n",
    "json.loads(text)"
   ]
  }
 ],
 "metadata": {
  "kernelspec": {
   "display_name": "study",
   "language": "python",
   "name": "python3"
  },
  "language_info": {
   "codemirror_mode": {
    "name": "ipython",
    "version": 3
   },
   "file_extension": ".py",
   "mimetype": "text/x-python",
   "name": "python",
   "nbconvert_exporter": "python",
   "pygments_lexer": "ipython3",
   "version": "3.11.9"
  }
 },
 "nbformat": 4,
 "nbformat_minor": 2
}
