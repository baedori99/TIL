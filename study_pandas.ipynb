{
 "cells": [
  {
   "cell_type": "markdown",
   "metadata": {},
   "source": [
    "# Pandas"
   ]
  },
  {
   "cell_type": "markdown",
   "metadata": {},
   "source": [
    "- 데이터 처리와 분석을 위한 라이브러리\n",
    "- 행과 열로 이루어진 데이터 객체를 만들어 다룰 수 있음\n",
    "- 대용량의 데이터들을 처리하는데 매우 편리\n",
    "- pandas 자료구조\n",
    "    * Series: 1차원\n",
    "    * DataFrame: 2차원\n",
    "    * Panel: 3차원\n",
    "- pandas 로딩"
   ]
  },
  {
   "cell_type": "code",
   "execution_count": 52,
   "metadata": {},
   "outputs": [],
   "source": [
    "import numpy as np # 보통 numpy와 함께 import\n",
    "import pandas as pd"
   ]
  },
  {
   "cell_type": "markdown",
   "metadata": {},
   "source": [
    "### 2.1 Pandas DataFrame"
   ]
  },
  {
   "cell_type": "markdown",
   "metadata": {},
   "source": [
    "- 2차원 자료구조\n",
    "- 행레이블/열레이블, 데이터로 구성됨\n",
    "- 딕셔너리(dictionary)에서 데이터프레임 생성"
   ]
  },
  {
   "cell_type": "code",
   "execution_count": 53,
   "metadata": {},
   "outputs": [
    {
     "name": "stdout",
     "output_type": "stream",
     "text": [
      "      year  GDP rate     GDP\n",
      "2016  2016       2.8  1.637M\n",
      "2017  2017       3.1   1.73M\n",
      "2018  2018       3.0   1.83M\n"
     ]
    }
   ],
   "source": [
    "import pandas as pd\n",
    "# 딕셔너리\n",
    "data = {\n",
    "    'year':[2016, 2017, 2018],\n",
    "    'GDP rate': [2.8, 3.1, 3.0],\n",
    "    'GDP': ['1.637M', '1.73M', '1.83M']\n",
    "}\n",
    "df = pd.DataFrame(data, index=data['year']) # index 추가할 수 있음\n",
    "print(df)"
   ]
  },
  {
   "cell_type": "code",
   "execution_count": 54,
   "metadata": {},
   "outputs": [
    {
     "name": "stdout",
     "output_type": "stream",
     "text": [
      "row labels: Index([2016, 2017, 2018], dtype='int64')\n"
     ]
    }
   ],
   "source": [
    "print(\"row labels:\", df.index)"
   ]
  },
  {
   "cell_type": "code",
   "execution_count": 55,
   "metadata": {},
   "outputs": [
    {
     "name": "stdout",
     "output_type": "stream",
     "text": [
      "column labels: Index(['year', 'GDP rate', 'GDP'], dtype='object')\n"
     ]
    }
   ],
   "source": [
    "print(\"column labels:\", df.columns)"
   ]
  },
  {
   "cell_type": "code",
   "execution_count": 56,
   "metadata": {},
   "outputs": [
    {
     "name": "stdout",
     "output_type": "stream",
     "text": [
      "head:       year  GDP rate     GDP\n",
      "2016  2016       2.8  1.637M\n",
      "2017  2017       3.1   1.73M\n",
      "2018  2018       3.0   1.83M\n"
     ]
    }
   ],
   "source": [
    "print(\"head:\",df.head()) # print some lines in data"
   ]
  },
  {
   "cell_type": "code",
   "execution_count": 57,
   "metadata": {},
   "outputs": [],
   "source": [
    "import seaborn as sns\n",
    "\n",
    "titanic = sns.load_dataset('titanic')\n",
    "titanic.head()\n",
    "titanic.to_csv('C:/Users/User/Desktop/배정환(인턴)/titanic.csv', index=False)"
   ]
  },
  {
   "cell_type": "markdown",
   "metadata": {},
   "source": [
    "- csv 파일에서 데이터프레임 생성"
   ]
  },
  {
   "cell_type": "code",
   "execution_count": 58,
   "metadata": {},
   "outputs": [
    {
     "name": "stdout",
     "output_type": "stream",
     "text": [
      "   survived  pclass     sex   age  sibsp  parch     fare embarked  class  \\\n",
      "0         0       3    male  22.0      1      0   7.2500        S  Third   \n",
      "1         1       1  female  38.0      1      0  71.2833        C  First   \n",
      "2         1       3  female  26.0      0      0   7.9250        S  Third   \n",
      "3         1       1  female  35.0      1      0  53.1000        S  First   \n",
      "4         0       3    male  35.0      0      0   8.0500        S  Third   \n",
      "\n",
      "     who  adult_male deck  embark_town alive  alone  \n",
      "0    man        True  NaN  Southampton    no  False  \n",
      "1  woman       False    C    Cherbourg   yes  False  \n",
      "2  woman       False  NaN  Southampton   yes   True  \n",
      "3  woman       False    C  Southampton   yes  False  \n",
      "4    man        True  NaN  Southampton    no   True  \n"
     ]
    }
   ],
   "source": [
    "csv_data_df = pd.read_csv('C:/Users/User/Desktop/배정환(인턴)/titanic.csv')\n",
    "print(csv_data_df.head())"
   ]
  },
  {
   "cell_type": "code",
   "execution_count": 59,
   "metadata": {},
   "outputs": [
    {
     "name": "stdout",
     "output_type": "stream",
     "text": [
      "Index(['survived', 'pclass', 'sex', 'age', 'sibsp', 'parch', 'fare',\n",
      "       'embarked', 'class', 'who', 'adult_male', 'deck', 'embark_town',\n",
      "       'alive', 'alone'],\n",
      "      dtype='object')\n"
     ]
    }
   ],
   "source": [
    "print(csv_data_df.columns)"
   ]
  },
  {
   "cell_type": "markdown",
   "metadata": {},
   "source": [
    "- 특정 변수의 추출"
   ]
  },
  {
   "cell_type": "code",
   "execution_count": 60,
   "metadata": {},
   "outputs": [
    {
     "name": "stdout",
     "output_type": "stream",
     "text": [
      "2016    2016\n",
      "2017    2017\n",
      "2018    2018\n",
      "Name: year, dtype: int64\n"
     ]
    }
   ],
   "source": [
    "# df에서 year변수의 값 추출\n",
    "print(df['year'])\n",
    "# 또는"
   ]
  },
  {
   "cell_type": "code",
   "execution_count": 61,
   "metadata": {},
   "outputs": [
    {
     "name": "stdout",
     "output_type": "stream",
     "text": [
      "2016    2016\n",
      "2017    2017\n",
      "2018    2018\n",
      "Name: year, dtype: int64\n"
     ]
    }
   ],
   "source": [
    "print(df.year)"
   ]
  },
  {
   "cell_type": "markdown",
   "metadata": {},
   "source": [
    "- 부분추출"
   ]
  },
  {
   "cell_type": "code",
   "execution_count": 62,
   "metadata": {},
   "outputs": [
    {
     "name": "stdout",
     "output_type": "stream",
     "text": [
      "     survived   age\n",
      "0           0  22.0\n",
      "1           1  38.0\n",
      "2           1  26.0\n",
      "3           1  35.0\n",
      "4           0  35.0\n",
      "..        ...   ...\n",
      "886         0  27.0\n",
      "887         1  19.0\n",
      "888         0   NaN\n",
      "889         1  26.0\n",
      "890         0  32.0\n",
      "\n",
      "[891 rows x 2 columns]\n"
     ]
    }
   ],
   "source": [
    "print(csv_data_df[['survived', 'age']]) # DataFrame"
   ]
  },
  {
   "cell_type": "code",
   "execution_count": 63,
   "metadata": {},
   "outputs": [
    {
     "name": "stdout",
     "output_type": "stream",
     "text": [
      "   survived   age\n",
      "0         0  22.0\n",
      "1         1  38.0\n",
      "2         1  26.0\n",
      "3         1  35.0\n"
     ]
    }
   ],
   "source": [
    "print(csv_data_df.loc[:3,['survived','age']])"
   ]
  },
  {
   "cell_type": "code",
   "execution_count": 64,
   "metadata": {},
   "outputs": [
    {
     "name": "stdout",
     "output_type": "stream",
     "text": [
      "   survived  pclass     sex\n",
      "0         0       3    male\n",
      "1         1       1  female\n",
      "2         1       3  female\n"
     ]
    }
   ],
   "source": [
    "print(csv_data_df.iloc[:3, :3])"
   ]
  },
  {
   "cell_type": "code",
   "execution_count": 65,
   "metadata": {},
   "outputs": [
    {
     "name": "stdout",
     "output_type": "stream",
     "text": [
      "     survived  pclass   sex   age  sibsp  parch     fare embarked   class  \\\n",
      "0           0       3  male  22.0      1      0   7.2500        S   Third   \n",
      "4           0       3  male  35.0      0      0   8.0500        S   Third   \n",
      "5           0       3  male   NaN      0      0   8.4583        Q   Third   \n",
      "6           0       1  male  54.0      0      0  51.8625        S   First   \n",
      "7           0       3  male   2.0      3      1  21.0750        S   Third   \n",
      "..        ...     ...   ...   ...    ...    ...      ...      ...     ...   \n",
      "883         0       2  male  28.0      0      0  10.5000        S  Second   \n",
      "884         0       3  male  25.0      0      0   7.0500        S   Third   \n",
      "886         0       2  male  27.0      0      0  13.0000        S  Second   \n",
      "889         1       1  male  26.0      0      0  30.0000        C   First   \n",
      "890         0       3  male  32.0      0      0   7.7500        Q   Third   \n",
      "\n",
      "       who  adult_male deck  embark_town alive  alone  \n",
      "0      man        True  NaN  Southampton    no  False  \n",
      "4      man        True  NaN  Southampton    no   True  \n",
      "5      man        True  NaN   Queenstown    no   True  \n",
      "6      man        True    E  Southampton    no   True  \n",
      "7    child       False  NaN  Southampton    no  False  \n",
      "..     ...         ...  ...          ...   ...    ...  \n",
      "883    man        True  NaN  Southampton    no   True  \n",
      "884    man        True  NaN  Southampton    no   True  \n",
      "886    man        True  NaN  Southampton    no   True  \n",
      "889    man        True    C    Cherbourg   yes   True  \n",
      "890    man        True  NaN   Queenstown    no   True  \n",
      "\n",
      "[577 rows x 15 columns]\n"
     ]
    }
   ],
   "source": [
    "print(csv_data_df[csv_data_df['sex'] == 'male']) # Bool 인덱싱"
   ]
  },
  {
   "cell_type": "markdown",
   "metadata": {},
   "source": [
    "#### Indexing options with DataFrame"
   ]
  },
  {
   "cell_type": "markdown",
   "metadata": {},
   "source": [
    "#### Type\n",
    "\n",
    "- df[val]                     : Select single column or sequence of columns from the DataFrame (단일 열/ 열의 시퀀스 선택)\n",
    "- df.loc[val]                 : Selects single row or subset of rows from the DataFrame by label (라벨을 이용해서 단일 행 / 행의 부분 집합을 선택)\n",
    "- df.loc[:, val]              : Selects single column or subset of columns by label (라벨을 사용하여 단일 열 / 열의 부분 집합을 선택)\n",
    "- df.loc[val1, val2]          : Select both rows and columns by label (라벨을 사용하여 행과 열을 동시에 선택)\n",
    "- df.iloc[where]              : Selects single row or subset of rows from the DataFrame by integer position (정수 위치를 사용하여 단일 행 / 행의 부분 집합을 선택)\n",
    "- df.iloc[:,where]            : Selects single column or subset of columns by integer position (정수 위치를 사용하여 단일 열 / 열의 부분 집합을 선택)\n",
    "- df.iloc[where_i, where_j]   : Select both rows and columns by integer position (정수 위치를 사용하여 행과 열을 동시에 선택)\n",
    "- df.at[label_i, label_j]     : Select a single scalar value by row and column label (행과 열 라벨을 사용하여 단일 스칼라 값을 선택)\n",
    "- df.iat[i, j]                : Select a single scalar value by row and column position (integers) (행과 열의 정수 위치를 사용하여 단일 스칼라 값을 선택)\n",
    "- get_value(),set_value()     : Select single value by row and column label (헹과 열 라벨을 사용하여 단일 값을 선택 / 설정 -> at(라벨) 과 iat(정수 위치)로 대체됨)"
   ]
  },
  {
   "cell_type": "markdown",
   "metadata": {},
   "source": [
    "- 요약"
   ]
  },
  {
   "cell_type": "code",
   "execution_count": 66,
   "metadata": {},
   "outputs": [
    {
     "name": "stdout",
     "output_type": "stream",
     "text": [
      "2057\n"
     ]
    }
   ],
   "source": [
    "print(csv_data_df['pclass'].sum())"
   ]
  },
  {
   "cell_type": "code",
   "execution_count": 67,
   "metadata": {},
   "outputs": [
    {
     "name": "stdout",
     "output_type": "stream",
     "text": [
      "         year  GDP rate\n",
      "count     3.0  3.000000\n",
      "mean   2017.0  2.966667\n",
      "std       1.0  0.152753\n",
      "min    2016.0  2.800000\n",
      "25%    2016.5  2.900000\n",
      "50%    2017.0  3.000000\n",
      "75%    2017.5  3.050000\n",
      "max    2018.0  3.100000\n"
     ]
    }
   ],
   "source": [
    "print(df.describe()) # describe()를 통해 기본적인 통계치를 모두 표시"
   ]
  },
  {
   "cell_type": "code",
   "execution_count": 68,
   "metadata": {},
   "outputs": [
    {
     "name": "stdout",
     "output_type": "stream",
     "text": [
      "         survived      pclass         age       sibsp       parch        fare\n",
      "count  891.000000  891.000000  714.000000  891.000000  891.000000  891.000000\n",
      "mean     0.383838    2.308642   29.699118    0.523008    0.381594   32.204208\n",
      "std      0.486592    0.836071   14.526497    1.102743    0.806057   49.693429\n",
      "min      0.000000    1.000000    0.420000    0.000000    0.000000    0.000000\n",
      "25%      0.000000    2.000000   20.125000    0.000000    0.000000    7.910400\n",
      "50%      0.000000    3.000000   28.000000    0.000000    0.000000   14.454200\n",
      "75%      1.000000    3.000000   38.000000    1.000000    0.000000   31.000000\n",
      "max      1.000000    3.000000   80.000000    8.000000    6.000000  512.329200\n"
     ]
    }
   ],
   "source": [
    "print(csv_data_df.describe())"
   ]
  },
  {
   "cell_type": "markdown",
   "metadata": {},
   "source": [
    "- 빈도"
   ]
  },
  {
   "cell_type": "code",
   "execution_count": 69,
   "metadata": {},
   "outputs": [
    {
     "name": "stdout",
     "output_type": "stream",
     "text": [
      "col_0   pclass  All\n",
      "sex                \n",
      "female     314  314\n",
      "male       577  577\n",
      "All        891  891\n"
     ]
    }
   ],
   "source": [
    "# One-way contingency table\n",
    "x= pd.crosstab(index=csv_data_df.sex, columns=\"pclass\", margins=True)\n",
    "print(x)"
   ]
  },
  {
   "cell_type": "code",
   "execution_count": 70,
   "metadata": {},
   "outputs": [
    {
     "name": "stdout",
     "output_type": "stream",
     "text": [
      "type of x= <class 'pandas.core.frame.DataFrame'>\n"
     ]
    }
   ],
   "source": [
    "print('type of x=', type(x))"
   ]
  },
  {
   "cell_type": "code",
   "execution_count": 71,
   "metadata": {},
   "outputs": [
    {
     "name": "stdout",
     "output_type": "stream",
     "text": [
      "sex\n",
      "female    314\n",
      "male      577\n",
      "All       891\n",
      "Name: pclass, dtype: int64\n"
     ]
    }
   ],
   "source": [
    "print(x['pclass'])"
   ]
  },
  {
   "cell_type": "code",
   "execution_count": 72,
   "metadata": {},
   "outputs": [
    {
     "data": {
      "text/html": [
       "<div>\n",
       "<style scoped>\n",
       "    .dataframe tbody tr th:only-of-type {\n",
       "        vertical-align: middle;\n",
       "    }\n",
       "\n",
       "    .dataframe tbody tr th {\n",
       "        vertical-align: top;\n",
       "    }\n",
       "\n",
       "    .dataframe thead th {\n",
       "        text-align: right;\n",
       "    }\n",
       "</style>\n",
       "<table border=\"1\" class=\"dataframe\">\n",
       "  <thead>\n",
       "    <tr style=\"text-align: right;\">\n",
       "      <th>who</th>\n",
       "      <th>child</th>\n",
       "      <th>man</th>\n",
       "      <th>woman</th>\n",
       "      <th>All</th>\n",
       "    </tr>\n",
       "    <tr>\n",
       "      <th>sex</th>\n",
       "      <th></th>\n",
       "      <th></th>\n",
       "      <th></th>\n",
       "      <th></th>\n",
       "    </tr>\n",
       "  </thead>\n",
       "  <tbody>\n",
       "    <tr>\n",
       "      <th>female</th>\n",
       "      <td>43</td>\n",
       "      <td>0</td>\n",
       "      <td>271</td>\n",
       "      <td>314</td>\n",
       "    </tr>\n",
       "    <tr>\n",
       "      <th>male</th>\n",
       "      <td>40</td>\n",
       "      <td>537</td>\n",
       "      <td>0</td>\n",
       "      <td>577</td>\n",
       "    </tr>\n",
       "    <tr>\n",
       "      <th>All</th>\n",
       "      <td>83</td>\n",
       "      <td>537</td>\n",
       "      <td>271</td>\n",
       "      <td>891</td>\n",
       "    </tr>\n",
       "  </tbody>\n",
       "</table>\n",
       "</div>"
      ],
      "text/plain": [
       "who     child  man  woman  All\n",
       "sex                           \n",
       "female     43    0    271  314\n",
       "male       40  537      0  577\n",
       "All        83  537    271  891"
      ]
     },
     "execution_count": 72,
     "metadata": {},
     "output_type": "execute_result"
    }
   ],
   "source": [
    "# Two-way contingency table\n",
    "pd.crosstab(csv_data_df.sex, csv_data_df.who, margins=True)"
   ]
  },
  {
   "cell_type": "code",
   "execution_count": 73,
   "metadata": {},
   "outputs": [
    {
     "data": {
      "text/html": [
       "<div>\n",
       "<style scoped>\n",
       "    .dataframe tbody tr th:only-of-type {\n",
       "        vertical-align: middle;\n",
       "    }\n",
       "\n",
       "    .dataframe tbody tr th {\n",
       "        vertical-align: top;\n",
       "    }\n",
       "\n",
       "    .dataframe thead th {\n",
       "        text-align: right;\n",
       "    }\n",
       "</style>\n",
       "<table border=\"1\" class=\"dataframe\">\n",
       "  <thead>\n",
       "    <tr style=\"text-align: right;\">\n",
       "      <th></th>\n",
       "      <th>alive</th>\n",
       "      <th>no</th>\n",
       "      <th>yes</th>\n",
       "      <th>All</th>\n",
       "    </tr>\n",
       "    <tr>\n",
       "      <th>sex</th>\n",
       "      <th>who</th>\n",
       "      <th></th>\n",
       "      <th></th>\n",
       "      <th></th>\n",
       "    </tr>\n",
       "  </thead>\n",
       "  <tbody>\n",
       "    <tr>\n",
       "      <th rowspan=\"2\" valign=\"top\">female</th>\n",
       "      <th>child</th>\n",
       "      <td>15</td>\n",
       "      <td>28</td>\n",
       "      <td>43</td>\n",
       "    </tr>\n",
       "    <tr>\n",
       "      <th>woman</th>\n",
       "      <td>66</td>\n",
       "      <td>205</td>\n",
       "      <td>271</td>\n",
       "    </tr>\n",
       "    <tr>\n",
       "      <th rowspan=\"2\" valign=\"top\">male</th>\n",
       "      <th>child</th>\n",
       "      <td>19</td>\n",
       "      <td>21</td>\n",
       "      <td>40</td>\n",
       "    </tr>\n",
       "    <tr>\n",
       "      <th>man</th>\n",
       "      <td>449</td>\n",
       "      <td>88</td>\n",
       "      <td>537</td>\n",
       "    </tr>\n",
       "    <tr>\n",
       "      <th>All</th>\n",
       "      <th></th>\n",
       "      <td>549</td>\n",
       "      <td>342</td>\n",
       "      <td>891</td>\n",
       "    </tr>\n",
       "  </tbody>\n",
       "</table>\n",
       "</div>"
      ],
      "text/plain": [
       "alive          no  yes  All\n",
       "sex    who                 \n",
       "female child   15   28   43\n",
       "       woman   66  205  271\n",
       "male   child   19   21   40\n",
       "       man    449   88  537\n",
       "All           549  342  891"
      ]
     },
     "execution_count": 73,
     "metadata": {},
     "output_type": "execute_result"
    }
   ],
   "source": [
    "# Three-way contingency table\n",
    "pd.crosstab([csv_data_df.sex, csv_data_df.who], csv_data_df.alive, margins=True)"
   ]
  },
  {
   "cell_type": "markdown",
   "metadata": {},
   "source": [
    "### 2.2 Pandas 통계처리"
   ]
  },
  {
   "cell_type": "markdown",
   "metadata": {},
   "source": [
    "- df.sum()\n",
    "- df.sum(axis='columns')\n",
    "- df.mean(axis='columns', skipna=False)\n",
    "- df.cumsum()"
   ]
  },
  {
   "cell_type": "markdown",
   "metadata": {},
   "source": [
    "#### Method\n",
    "\n",
    "- count             : Number of non-NA values\n",
    "- describe          : Compute set of summary statistics for Series or each DataFrame column (기본적인 통계 세부 정보를 보는데 사용)\n",
    "- min, max          : Compute minimum and maximum values\n",
    "- argmin, argmax    : Compute index locations (integers) at which minimum or maximum value obtained, respectively \n",
    "- idxmin, idxmax    : Compute index labels at which minimum or maximum value obtained, respectively\n",
    "- quantile          : Compute sample quantile ranging from 0 to 1 (분위수 - 확률 분포의 범위를 동일한 확률의 연속 간격으로 나누거나 동일한 방식으로 표본의 관측치를 나누는 절단점)\n",
    "- sum               : Sum of values\n",
    "- mean              : Mean of values\n",
    "- median            : median (50% qunatile) of values\n",
    "- mad               : Mean absolute deviation from mean value (평균 절대 편차 - 각 측정값과 평균 사이의 거리의 평균)\n",
    "- prod              : Product of all values\n",
    "- var               : Sample variance of values\n",
    "- std               : Sample standard deviation of values\n",
    "- skew              : Sample skewness (third moment) of values (비대칭도)\n",
    "- kurt              : Sample kurtosis (fourth moment) of values (첨도 - 데이터의 확률 분포가 얼마나 뾰족한지를 나타냄)\n",
    "- cumsum            : Cumulative sum of values (누적합)\n",
    "- cummin, cummax    : Cumulative minimum or maximum of values, respectively\n",
    "- cumprod           : Cumulative product of values\n",
    "- diff              : Compute first arithmetic difference (useful for time series) (차이 - 한 객체 내에서 열과 열/행과 행의 차이를 출력하는 메서드)\n",
    "- pct_change        : Compute percent changes (백분율)"
   ]
  },
  {
   "cell_type": "markdown",
   "metadata": {},
   "source": [
    "### 2.3 Pandas plot"
   ]
  },
  {
   "cell_type": "markdown",
   "metadata": {},
   "source": [
    "1. Boxplot"
   ]
  },
  {
   "cell_type": "code",
   "execution_count": 74,
   "metadata": {},
   "outputs": [
    {
     "name": "stdout",
     "output_type": "stream",
     "text": [
      "       unif      norm\n",
      "0  0.595667  1.404712\n",
      "1  2.159100  1.630947\n",
      "2  1.212724  0.870850\n",
      "3  0.265444  1.800570\n",
      "4  2.998581  1.035557\n"
     ]
    }
   ],
   "source": [
    "df = pd.DataFrame({\n",
    "    'unif': np.random.uniform(-3, 3, 20),\n",
    "    'norm': np.random.normal(0, 1, 20)\n",
    "})\n",
    "\n",
    "print(df.head())"
   ]
  },
  {
   "cell_type": "code",
   "execution_count": 75,
   "metadata": {},
   "outputs": [
    {
     "data": {
      "text/plain": [
       "<Axes: >"
      ]
     },
     "execution_count": 75,
     "metadata": {},
     "output_type": "execute_result"
    }
   ],
   "source": [
    "df.boxplot(column=['unif', 'norm'])"
   ]
  },
  {
   "cell_type": "code",
   "execution_count": 76,
   "metadata": {},
   "outputs": [],
   "source": [
    "import matplotlib.pyplot as plt"
   ]
  },
  {
   "cell_type": "markdown",
   "metadata": {},
   "source": [
    "2. time series plot"
   ]
  },
  {
   "cell_type": "code",
   "execution_count": 77,
   "metadata": {},
   "outputs": [
    {
     "data": {
      "image/png": "[encoded data removed]",
      "text/plain": [
       "<Figure size 640x480 with 1 Axes>"
      ]
     },
     "metadata": {},
     "output_type": "display_data"
    },
    {
     "data": {
      "image/png": "[encoded data removed]",
      "text/plain": [
       "<Figure size 640x480 with 1 Axes>"
      ]
     },
     "metadata": {},
     "output_type": "display_data"
    }
   ],
   "source": [
    "df.index = pd.date_range('2000', freq='YE', periods=df.shape[0])\n",
    "df.plot()\n",
    "plt.show()"
   ]
  },
  {
   "cell_type": "markdown",
   "metadata": {},
   "source": [
    "3. scatter plot"
   ]
  },
  {
   "cell_type": "code",
   "execution_count": 78,
   "metadata": {},
   "outputs": [
    {
     "data": {
      "image/png": "[encoded data removed]",
      "text/plain": [
       "<Figure size 640x480 with 1 Axes>"
      ]
     },
     "metadata": {},
     "output_type": "display_data"
    }
   ],
   "source": [
    "df.plot.scatter(x='unif', y = 'norm')\n",
    "plt.show()"
   ]
  },
  {
   "cell_type": "markdown",
   "metadata": {},
   "source": [
    "### 2.4 Read & write data in Pandas"
   ]
  },
  {
   "cell_type": "markdown",
   "metadata": {},
   "source": [
    "#### Functions\n",
    "\n",
    "- read_csv              : Load delimited data from a file, URL, or file-like object, use comma as default delimiter\n",
    "- read_table            : Load delimited data from a file, URL, or file-like object, use tab (') as default delimiter\n",
    "- read_fwf              : Read data in fixed_width column format (i.e., no delimiters) (구분자가 없는 데이터를 읽음)\n",
    "- read_excel            : Read tabular data from an Excel XLS or XLSX file\n",
    "- read_html             : Read all tables found in the given HTML document\n",
    "- read_json             : Read data from a JSON (JavaScript Object Notation) string representation"
   ]
  },
  {
   "cell_type": "code",
   "execution_count": 79,
   "metadata": {},
   "outputs": [
    {
     "name": "stdout",
     "output_type": "stream",
     "text": [
      "    나이  학력수준            소득\n",
      "0   54    14  66814.194580\n",
      "1   40    12  42144.338120\n",
      "2   35    14  25697.767150\n",
      "3   55    12  35976.874000\n",
      "4   40    12  39060.606060\n",
      "..  ..   ...           ...\n",
      "95  25    14   4625.598086\n",
      "96  50    17  50367.623600\n",
      "97  67    14  66814.194580\n",
      "98  30    14  52423.444980\n",
      "99  28    12  37004.784690\n",
      "\n",
      "[100 rows x 3 columns]\n"
     ]
    }
   ],
   "source": [
    "df = pd.read_csv('C:/Users/User/Desktop/배정환(인턴)/finance.csv', encoding= 'euc-kr')\n",
    "print(df)"
   ]
  }
 ],
 "metadata": {
  "kernelspec": {
   "display_name": "study",
   "language": "python",
   "name": "python3"
  },
  "language_info": {
   "codemirror_mode": {
    "name": "ipython",
    "version": 3
   },
   "file_extension": ".py",
   "mimetype": "text/x-python",
   "name": "python",
   "nbconvert_exporter": "python",
   "pygments_lexer": "ipython3",
   "version": "3.11.9"
  }
 },
 "nbformat": 4,
 "nbformat_minor": 2
}
